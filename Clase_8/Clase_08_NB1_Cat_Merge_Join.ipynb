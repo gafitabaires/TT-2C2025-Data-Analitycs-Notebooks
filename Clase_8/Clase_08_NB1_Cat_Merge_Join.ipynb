{
  "nbformat": 4,
  "nbformat_minor": 0,
  "metadata": {
    "colab": {
      "provenance": [],
      "toc_visible": true
    },
    "kernelspec": {
      "name": "python3",
      "display_name": "Python 3"
    },
    "language_info": {
      "name": "python"
    }
  },
  "cells": [
    {
      "cell_type": "markdown",
      "source": [
        "# Veamos con un ejemplo el uso de concat - merge - join"
      ],
      "metadata": {
        "id": "nUbK0PA_9YAH"
      }
    },
    {
      "cell_type": "markdown",
      "source": [
        "Contamos con dos estaciones meteorológicas, cada una instalada en una ubicación geográfica diferente, que sensan datos de temperatura, presión y humedad cada una hora.\n",
        "<BR>\n",
        "Simulemos algunas mediciones y armemos dos dataframes, uno para cada estación y con datos de un mismo día"
      ],
      "metadata": {
        "id": "ShnPybB211Gn"
      }
    },
    {
      "cell_type": "code",
      "source": [
        "import pandas as pd\n",
        "import numpy as np\n",
        "\n",
        "# Creamos una serie tipo datetime con 24 valores, mismo día y 24 horas.\n",
        "horas = pd.date_range(\"2025-10-11 00:00\", periods=24, freq=\"H\")\n",
        "horas"
      ],
      "metadata": {
        "id": "zzUXzhsi181_",
        "outputId": "7a1c8320-0032-4d19-c750-6bf15b42f662",
        "colab": {
          "base_uri": "https://localhost:8080/"
        }
      },
      "execution_count": 1,
      "outputs": [
        {
          "output_type": "stream",
          "name": "stderr",
          "text": [
            "/tmp/ipython-input-1847358487.py:5: FutureWarning: 'H' is deprecated and will be removed in a future version, please use 'h' instead.\n",
            "  horas = pd.date_range(\"2025-10-11 00:00\", periods=24, freq=\"H\")\n"
          ]
        },
        {
          "output_type": "execute_result",
          "data": {
            "text/plain": [
              "DatetimeIndex(['2025-10-11 00:00:00', '2025-10-11 01:00:00',\n",
              "               '2025-10-11 02:00:00', '2025-10-11 03:00:00',\n",
              "               '2025-10-11 04:00:00', '2025-10-11 05:00:00',\n",
              "               '2025-10-11 06:00:00', '2025-10-11 07:00:00',\n",
              "               '2025-10-11 08:00:00', '2025-10-11 09:00:00',\n",
              "               '2025-10-11 10:00:00', '2025-10-11 11:00:00',\n",
              "               '2025-10-11 12:00:00', '2025-10-11 13:00:00',\n",
              "               '2025-10-11 14:00:00', '2025-10-11 15:00:00',\n",
              "               '2025-10-11 16:00:00', '2025-10-11 17:00:00',\n",
              "               '2025-10-11 18:00:00', '2025-10-11 19:00:00',\n",
              "               '2025-10-11 20:00:00', '2025-10-11 21:00:00',\n",
              "               '2025-10-11 22:00:00', '2025-10-11 23:00:00'],\n",
              "              dtype='datetime64[ns]', freq='h')"
            ]
          },
          "metadata": {},
          "execution_count": 1
        }
      ]
    },
    {
      "cell_type": "code",
      "source": [
        "# Simulamos el dataframe de la Estacion 1\n",
        "estacion1 = pd.DataFrame({\n",
        "    \"hora\": horas,\n",
        "    \"estacion\": \"E1\",\n",
        "    \"temperatura\": np.random.normal(20, 3, 24),  # genera 24 valores (dist normal) con media 20 y desviación 3\n",
        "    \"presion\": np.random.normal(1013, 5, 24),  # genera 24 valores (dist normal) con media 1013 y desviación 5\n",
        "    \"humedad\": np.random.uniform(40, 80, 24)  # genera 24 valores (dist uniform) con media 40 y desviación 8\n",
        "})"
      ],
      "metadata": {
        "id": "LcwUH-i-2dCH"
      },
      "execution_count": 2,
      "outputs": []
    },
    {
      "cell_type": "code",
      "source": [
        "estacion1.sample(3)"
      ],
      "metadata": {
        "id": "mIME38ae31qo",
        "outputId": "c8541d12-cf52-469b-98fa-a2ef85946cd3",
        "colab": {
          "base_uri": "https://localhost:8080/",
          "height": 143
        }
      },
      "execution_count": 4,
      "outputs": [
        {
          "output_type": "execute_result",
          "data": {
            "text/plain": [
              "                  hora estacion  temperatura      presion    humedad\n",
              "9  2025-10-11 09:00:00       E1    22.119274  1015.836138  53.830568\n",
              "13 2025-10-11 13:00:00       E1    19.032303  1017.738980  51.253005\n",
              "11 2025-10-11 11:00:00       E1    23.243825  1015.645762  68.238463"
            ],
            "text/html": [
              "\n",
              "  <div id=\"df-61fea482-e10d-49ca-913c-8cd431fb6df6\" class=\"colab-df-container\">\n",
              "    <div>\n",
              "<style scoped>\n",
              "    .dataframe tbody tr th:only-of-type {\n",
              "        vertical-align: middle;\n",
              "    }\n",
              "\n",
              "    .dataframe tbody tr th {\n",
              "        vertical-align: top;\n",
              "    }\n",
              "\n",
              "    .dataframe thead th {\n",
              "        text-align: right;\n",
              "    }\n",
              "</style>\n",
              "<table border=\"1\" class=\"dataframe\">\n",
              "  <thead>\n",
              "    <tr style=\"text-align: right;\">\n",
              "      <th></th>\n",
              "      <th>hora</th>\n",
              "      <th>estacion</th>\n",
              "      <th>temperatura</th>\n",
              "      <th>presion</th>\n",
              "      <th>humedad</th>\n",
              "    </tr>\n",
              "  </thead>\n",
              "  <tbody>\n",
              "    <tr>\n",
              "      <th>9</th>\n",
              "      <td>2025-10-11 09:00:00</td>\n",
              "      <td>E1</td>\n",
              "      <td>22.119274</td>\n",
              "      <td>1015.836138</td>\n",
              "      <td>53.830568</td>\n",
              "    </tr>\n",
              "    <tr>\n",
              "      <th>13</th>\n",
              "      <td>2025-10-11 13:00:00</td>\n",
              "      <td>E1</td>\n",
              "      <td>19.032303</td>\n",
              "      <td>1017.738980</td>\n",
              "      <td>51.253005</td>\n",
              "    </tr>\n",
              "    <tr>\n",
              "      <th>11</th>\n",
              "      <td>2025-10-11 11:00:00</td>\n",
              "      <td>E1</td>\n",
              "      <td>23.243825</td>\n",
              "      <td>1015.645762</td>\n",
              "      <td>68.238463</td>\n",
              "    </tr>\n",
              "  </tbody>\n",
              "</table>\n",
              "</div>\n",
              "    <div class=\"colab-df-buttons\">\n",
              "\n",
              "  <div class=\"colab-df-container\">\n",
              "    <button class=\"colab-df-convert\" onclick=\"convertToInteractive('df-61fea482-e10d-49ca-913c-8cd431fb6df6')\"\n",
              "            title=\"Convert this dataframe to an interactive table.\"\n",
              "            style=\"display:none;\">\n",
              "\n",
              "  <svg xmlns=\"http://www.w3.org/2000/svg\" height=\"24px\" viewBox=\"0 -960 960 960\">\n",
              "    <path d=\"M120-120v-720h720v720H120Zm60-500h600v-160H180v160Zm220 220h160v-160H400v160Zm0 220h160v-160H400v160ZM180-400h160v-160H180v160Zm440 0h160v-160H620v160ZM180-180h160v-160H180v160Zm440 0h160v-160H620v160Z\"/>\n",
              "  </svg>\n",
              "    </button>\n",
              "\n",
              "  <style>\n",
              "    .colab-df-container {\n",
              "      display:flex;\n",
              "      gap: 12px;\n",
              "    }\n",
              "\n",
              "    .colab-df-convert {\n",
              "      background-color: #E8F0FE;\n",
              "      border: none;\n",
              "      border-radius: 50%;\n",
              "      cursor: pointer;\n",
              "      display: none;\n",
              "      fill: #1967D2;\n",
              "      height: 32px;\n",
              "      padding: 0 0 0 0;\n",
              "      width: 32px;\n",
              "    }\n",
              "\n",
              "    .colab-df-convert:hover {\n",
              "      background-color: #E2EBFA;\n",
              "      box-shadow: 0px 1px 2px rgba(60, 64, 67, 0.3), 0px 1px 3px 1px rgba(60, 64, 67, 0.15);\n",
              "      fill: #174EA6;\n",
              "    }\n",
              "\n",
              "    .colab-df-buttons div {\n",
              "      margin-bottom: 4px;\n",
              "    }\n",
              "\n",
              "    [theme=dark] .colab-df-convert {\n",
              "      background-color: #3B4455;\n",
              "      fill: #D2E3FC;\n",
              "    }\n",
              "\n",
              "    [theme=dark] .colab-df-convert:hover {\n",
              "      background-color: #434B5C;\n",
              "      box-shadow: 0px 1px 3px 1px rgba(0, 0, 0, 0.15);\n",
              "      filter: drop-shadow(0px 1px 2px rgba(0, 0, 0, 0.3));\n",
              "      fill: #FFFFFF;\n",
              "    }\n",
              "  </style>\n",
              "\n",
              "    <script>\n",
              "      const buttonEl =\n",
              "        document.querySelector('#df-61fea482-e10d-49ca-913c-8cd431fb6df6 button.colab-df-convert');\n",
              "      buttonEl.style.display =\n",
              "        google.colab.kernel.accessAllowed ? 'block' : 'none';\n",
              "\n",
              "      async function convertToInteractive(key) {\n",
              "        const element = document.querySelector('#df-61fea482-e10d-49ca-913c-8cd431fb6df6');\n",
              "        const dataTable =\n",
              "          await google.colab.kernel.invokeFunction('convertToInteractive',\n",
              "                                                    [key], {});\n",
              "        if (!dataTable) return;\n",
              "\n",
              "        const docLinkHtml = 'Like what you see? Visit the ' +\n",
              "          '<a target=\"_blank\" href=https://colab.research.google.com/notebooks/data_table.ipynb>data table notebook</a>'\n",
              "          + ' to learn more about interactive tables.';\n",
              "        element.innerHTML = '';\n",
              "        dataTable['output_type'] = 'display_data';\n",
              "        await google.colab.output.renderOutput(dataTable, element);\n",
              "        const docLink = document.createElement('div');\n",
              "        docLink.innerHTML = docLinkHtml;\n",
              "        element.appendChild(docLink);\n",
              "      }\n",
              "    </script>\n",
              "  </div>\n",
              "\n",
              "\n",
              "    <div id=\"df-d2d0ee81-9fad-4ec1-90ba-6dae5a14582f\">\n",
              "      <button class=\"colab-df-quickchart\" onclick=\"quickchart('df-d2d0ee81-9fad-4ec1-90ba-6dae5a14582f')\"\n",
              "                title=\"Suggest charts\"\n",
              "                style=\"display:none;\">\n",
              "\n",
              "<svg xmlns=\"http://www.w3.org/2000/svg\" height=\"24px\"viewBox=\"0 0 24 24\"\n",
              "     width=\"24px\">\n",
              "    <g>\n",
              "        <path d=\"M19 3H5c-1.1 0-2 .9-2 2v14c0 1.1.9 2 2 2h14c1.1 0 2-.9 2-2V5c0-1.1-.9-2-2-2zM9 17H7v-7h2v7zm4 0h-2V7h2v10zm4 0h-2v-4h2v4z\"/>\n",
              "    </g>\n",
              "</svg>\n",
              "      </button>\n",
              "\n",
              "<style>\n",
              "  .colab-df-quickchart {\n",
              "      --bg-color: #E8F0FE;\n",
              "      --fill-color: #1967D2;\n",
              "      --hover-bg-color: #E2EBFA;\n",
              "      --hover-fill-color: #174EA6;\n",
              "      --disabled-fill-color: #AAA;\n",
              "      --disabled-bg-color: #DDD;\n",
              "  }\n",
              "\n",
              "  [theme=dark] .colab-df-quickchart {\n",
              "      --bg-color: #3B4455;\n",
              "      --fill-color: #D2E3FC;\n",
              "      --hover-bg-color: #434B5C;\n",
              "      --hover-fill-color: #FFFFFF;\n",
              "      --disabled-bg-color: #3B4455;\n",
              "      --disabled-fill-color: #666;\n",
              "  }\n",
              "\n",
              "  .colab-df-quickchart {\n",
              "    background-color: var(--bg-color);\n",
              "    border: none;\n",
              "    border-radius: 50%;\n",
              "    cursor: pointer;\n",
              "    display: none;\n",
              "    fill: var(--fill-color);\n",
              "    height: 32px;\n",
              "    padding: 0;\n",
              "    width: 32px;\n",
              "  }\n",
              "\n",
              "  .colab-df-quickchart:hover {\n",
              "    background-color: var(--hover-bg-color);\n",
              "    box-shadow: 0 1px 2px rgba(60, 64, 67, 0.3), 0 1px 3px 1px rgba(60, 64, 67, 0.15);\n",
              "    fill: var(--button-hover-fill-color);\n",
              "  }\n",
              "\n",
              "  .colab-df-quickchart-complete:disabled,\n",
              "  .colab-df-quickchart-complete:disabled:hover {\n",
              "    background-color: var(--disabled-bg-color);\n",
              "    fill: var(--disabled-fill-color);\n",
              "    box-shadow: none;\n",
              "  }\n",
              "\n",
              "  .colab-df-spinner {\n",
              "    border: 2px solid var(--fill-color);\n",
              "    border-color: transparent;\n",
              "    border-bottom-color: var(--fill-color);\n",
              "    animation:\n",
              "      spin 1s steps(1) infinite;\n",
              "  }\n",
              "\n",
              "  @keyframes spin {\n",
              "    0% {\n",
              "      border-color: transparent;\n",
              "      border-bottom-color: var(--fill-color);\n",
              "      border-left-color: var(--fill-color);\n",
              "    }\n",
              "    20% {\n",
              "      border-color: transparent;\n",
              "      border-left-color: var(--fill-color);\n",
              "      border-top-color: var(--fill-color);\n",
              "    }\n",
              "    30% {\n",
              "      border-color: transparent;\n",
              "      border-left-color: var(--fill-color);\n",
              "      border-top-color: var(--fill-color);\n",
              "      border-right-color: var(--fill-color);\n",
              "    }\n",
              "    40% {\n",
              "      border-color: transparent;\n",
              "      border-right-color: var(--fill-color);\n",
              "      border-top-color: var(--fill-color);\n",
              "    }\n",
              "    60% {\n",
              "      border-color: transparent;\n",
              "      border-right-color: var(--fill-color);\n",
              "    }\n",
              "    80% {\n",
              "      border-color: transparent;\n",
              "      border-right-color: var(--fill-color);\n",
              "      border-bottom-color: var(--fill-color);\n",
              "    }\n",
              "    90% {\n",
              "      border-color: transparent;\n",
              "      border-bottom-color: var(--fill-color);\n",
              "    }\n",
              "  }\n",
              "</style>\n",
              "\n",
              "      <script>\n",
              "        async function quickchart(key) {\n",
              "          const quickchartButtonEl =\n",
              "            document.querySelector('#' + key + ' button');\n",
              "          quickchartButtonEl.disabled = true;  // To prevent multiple clicks.\n",
              "          quickchartButtonEl.classList.add('colab-df-spinner');\n",
              "          try {\n",
              "            const charts = await google.colab.kernel.invokeFunction(\n",
              "                'suggestCharts', [key], {});\n",
              "          } catch (error) {\n",
              "            console.error('Error during call to suggestCharts:', error);\n",
              "          }\n",
              "          quickchartButtonEl.classList.remove('colab-df-spinner');\n",
              "          quickchartButtonEl.classList.add('colab-df-quickchart-complete');\n",
              "        }\n",
              "        (() => {\n",
              "          let quickchartButtonEl =\n",
              "            document.querySelector('#df-d2d0ee81-9fad-4ec1-90ba-6dae5a14582f button');\n",
              "          quickchartButtonEl.style.display =\n",
              "            google.colab.kernel.accessAllowed ? 'block' : 'none';\n",
              "        })();\n",
              "      </script>\n",
              "    </div>\n",
              "\n",
              "    </div>\n",
              "  </div>\n"
            ],
            "application/vnd.google.colaboratory.intrinsic+json": {
              "type": "dataframe",
              "summary": "{\n  \"name\": \"estacion1\",\n  \"rows\": 3,\n  \"fields\": [\n    {\n      \"column\": \"hora\",\n      \"properties\": {\n        \"dtype\": \"date\",\n        \"min\": \"2025-10-11 09:00:00\",\n        \"max\": \"2025-10-11 13:00:00\",\n        \"num_unique_values\": 3,\n        \"samples\": [\n          \"2025-10-11 09:00:00\",\n          \"2025-10-11 13:00:00\",\n          \"2025-10-11 11:00:00\"\n        ],\n        \"semantic_type\": \"\",\n        \"description\": \"\"\n      }\n    },\n    {\n      \"column\": \"estacion\",\n      \"properties\": {\n        \"dtype\": \"category\",\n        \"num_unique_values\": 1,\n        \"samples\": [\n          \"E1\"\n        ],\n        \"semantic_type\": \"\",\n        \"description\": \"\"\n      }\n    },\n    {\n      \"column\": \"temperatura\",\n      \"properties\": {\n        \"dtype\": \"number\",\n        \"std\": 2.1806317781682383,\n        \"min\": 19.032302732604727,\n        \"max\": 23.243825159770452,\n        \"num_unique_values\": 3,\n        \"samples\": [\n          22.119274417993516\n        ],\n        \"semantic_type\": \"\",\n        \"description\": \"\"\n      }\n    },\n    {\n      \"column\": \"presion\",\n      \"properties\": {\n        \"dtype\": \"number\",\n        \"std\": 1.1574837370496773,\n        \"min\": 1015.6457615878346,\n        \"max\": 1017.7389795957864,\n        \"num_unique_values\": 3,\n        \"samples\": [\n          1015.8361378062941\n        ],\n        \"semantic_type\": \"\",\n        \"description\": \"\"\n      }\n    },\n    {\n      \"column\": \"humedad\",\n      \"properties\": {\n        \"dtype\": \"number\",\n        \"std\": 9.153660835294337,\n        \"min\": 51.253005300617694,\n        \"max\": 68.23846301788137,\n        \"num_unique_values\": 3,\n        \"samples\": [\n          53.830568086848004\n        ],\n        \"semantic_type\": \"\",\n        \"description\": \"\"\n      }\n    }\n  ]\n}"
            }
          },
          "metadata": {},
          "execution_count": 4
        }
      ]
    },
    {
      "cell_type": "code",
      "source": [
        "import matplotlib.pyplot as plt\n",
        "estacion1[\"temperatura\"].hist(bins=\"auto\")\n",
        "plt.show()"
      ],
      "metadata": {
        "id": "skJk4bXNCsnM",
        "outputId": "bc280d53-4023-44ef-f027-3b931050176c",
        "colab": {
          "base_uri": "https://localhost:8080/",
          "height": 430
        }
      },
      "execution_count": 5,
      "outputs": [
        {
          "output_type": "display_data",
          "data": {
            "text/plain": [
              "<Figure size 640x480 with 1 Axes>"
            ],
            "image/png": "[encoded data removed]"
          },
          "metadata": {}
        }
      ]
    },
    {
      "cell_type": "code",
      "source": [
        "# Graficamos las temperaturas de 1 día\n",
        "estacion1.plot(x=\"hora\", y=\"temperatura\", kind=\"line\")\n",
        "plt.show()"
      ],
      "metadata": {
        "id": "wCE8vA8kCX08",
        "outputId": "84f59d2c-5a8e-464f-a270-6fe3bc4a8a01",
        "colab": {
          "base_uri": "https://localhost:8080/",
          "height": 466
        }
      },
      "execution_count": 6,
      "outputs": [
        {
          "output_type": "display_data",
          "data": {
            "text/plain": [
              "<Figure size 640x480 with 1 Axes>"
            ],
            "image/png": "[encoded data removed]"
          },
          "metadata": {}
        }
      ]
    },
    {
      "cell_type": "code",
      "source": [
        "# Simulamos el dataframe de la Estacion 1\n",
        "estacion2 = pd.DataFrame({\n",
        "    \"hora\": horas,\n",
        "    \"estacion\": \"E2\",\n",
        "    \"temperatura\": np.random.normal(18, 2, 24),\n",
        "    \"presion\": np.random.normal(1010, 4, 24),\n",
        "    \"humedad\": np.random.uniform(35, 75, 24)\n",
        "})"
      ],
      "metadata": {
        "id": "yAw5moAk2gvP"
      },
      "execution_count": 7,
      "outputs": []
    },
    {
      "cell_type": "code",
      "source": [
        "estacion2.sample(5)"
      ],
      "metadata": {
        "id": "KSD4TqqP37-3",
        "outputId": "dc44bd96-4437-48cb-fb1b-a13729ef8720",
        "colab": {
          "base_uri": "https://localhost:8080/",
          "height": 206
        }
      },
      "execution_count": 8,
      "outputs": [
        {
          "output_type": "execute_result",
          "data": {
            "text/plain": [
              "                 hora estacion  temperatura      presion    humedad\n",
              "3 2025-10-11 03:00:00       E2    18.432320  1014.618511  48.005715\n",
              "5 2025-10-11 05:00:00       E2    20.307092  1011.542478  57.382786\n",
              "8 2025-10-11 08:00:00       E2    19.426497  1013.047650  63.765573\n",
              "1 2025-10-11 01:00:00       E2    20.258917  1007.185231  48.967443\n",
              "0 2025-10-11 00:00:00       E2    16.336559  1005.564173  55.880526"
            ],
            "text/html": [
              "\n",
              "  <div id=\"df-9923cef6-5026-4687-bbb4-e6df8f420548\" class=\"colab-df-container\">\n",
              "    <div>\n",
              "<style scoped>\n",
              "    .dataframe tbody tr th:only-of-type {\n",
              "        vertical-align: middle;\n",
              "    }\n",
              "\n",
              "    .dataframe tbody tr th {\n",
              "        vertical-align: top;\n",
              "    }\n",
              "\n",
              "    .dataframe thead th {\n",
              "        text-align: right;\n",
              "    }\n",
              "</style>\n",
              "<table border=\"1\" class=\"dataframe\">\n",
              "  <thead>\n",
              "    <tr style=\"text-align: right;\">\n",
              "      <th></th>\n",
              "      <th>hora</th>\n",
              "      <th>estacion</th>\n",
              "      <th>temperatura</th>\n",
              "      <th>presion</th>\n",
              "      <th>humedad</th>\n",
              "    </tr>\n",
              "  </thead>\n",
              "  <tbody>\n",
              "    <tr>\n",
              "      <th>3</th>\n",
              "      <td>2025-10-11 03:00:00</td>\n",
              "      <td>E2</td>\n",
              "      <td>18.432320</td>\n",
              "      <td>1014.618511</td>\n",
              "      <td>48.005715</td>\n",
              "    </tr>\n",
              "    <tr>\n",
              "      <th>5</th>\n",
              "      <td>2025-10-11 05:00:00</td>\n",
              "      <td>E2</td>\n",
              "      <td>20.307092</td>\n",
              "      <td>1011.542478</td>\n",
              "      <td>57.382786</td>\n",
              "    </tr>\n",
              "    <tr>\n",
              "      <th>8</th>\n",
              "      <td>2025-10-11 08:00:00</td>\n",
              "      <td>E2</td>\n",
              "      <td>19.426497</td>\n",
              "      <td>1013.047650</td>\n",
              "      <td>63.765573</td>\n",
              "    </tr>\n",
              "    <tr>\n",
              "      <th>1</th>\n",
              "      <td>2025-10-11 01:00:00</td>\n",
              "      <td>E2</td>\n",
              "      <td>20.258917</td>\n",
              "      <td>1007.185231</td>\n",
              "      <td>48.967443</td>\n",
              "    </tr>\n",
              "    <tr>\n",
              "      <th>0</th>\n",
              "      <td>2025-10-11 00:00:00</td>\n",
              "      <td>E2</td>\n",
              "      <td>16.336559</td>\n",
              "      <td>1005.564173</td>\n",
              "      <td>55.880526</td>\n",
              "    </tr>\n",
              "  </tbody>\n",
              "</table>\n",
              "</div>\n",
              "    <div class=\"colab-df-buttons\">\n",
              "\n",
              "  <div class=\"colab-df-container\">\n",
              "    <button class=\"colab-df-convert\" onclick=\"convertToInteractive('df-9923cef6-5026-4687-bbb4-e6df8f420548')\"\n",
              "            title=\"Convert this dataframe to an interactive table.\"\n",
              "            style=\"display:none;\">\n",
              "\n",
              "  <svg xmlns=\"http://www.w3.org/2000/svg\" height=\"24px\" viewBox=\"0 -960 960 960\">\n",
              "    <path d=\"M120-120v-720h720v720H120Zm60-500h600v-160H180v160Zm220 220h160v-160H400v160Zm0 220h160v-160H400v160ZM180-400h160v-160H180v160Zm440 0h160v-160H620v160ZM180-180h160v-160H180v160Zm440 0h160v-160H620v160Z\"/>\n",
              "  </svg>\n",
              "    </button>\n",
              "\n",
              "  <style>\n",
              "    .colab-df-container {\n",
              "      display:flex;\n",
              "      gap: 12px;\n",
              "    }\n",
              "\n",
              "    .colab-df-convert {\n",
              "      background-color: #E8F0FE;\n",
              "      border: none;\n",
              "      border-radius: 50%;\n",
              "      cursor: pointer;\n",
              "      display: none;\n",
              "      fill: #1967D2;\n",
              "      height: 32px;\n",
              "      padding: 0 0 0 0;\n",
              "      width: 32px;\n",
              "    }\n",
              "\n",
              "    .colab-df-convert:hover {\n",
              "      background-color: #E2EBFA;\n",
              "      box-shadow: 0px 1px 2px rgba(60, 64, 67, 0.3), 0px 1px 3px 1px rgba(60, 64, 67, 0.15);\n",
              "      fill: #174EA6;\n",
              "    }\n",
              "\n",
              "    .colab-df-buttons div {\n",
              "      margin-bottom: 4px;\n",
              "    }\n",
              "\n",
              "    [theme=dark] .colab-df-convert {\n",
              "      background-color: #3B4455;\n",
              "      fill: #D2E3FC;\n",
              "    }\n",
              "\n",
              "    [theme=dark] .colab-df-convert:hover {\n",
              "      background-color: #434B5C;\n",
              "      box-shadow: 0px 1px 3px 1px rgba(0, 0, 0, 0.15);\n",
              "      filter: drop-shadow(0px 1px 2px rgba(0, 0, 0, 0.3));\n",
              "      fill: #FFFFFF;\n",
              "    }\n",
              "  </style>\n",
              "\n",
              "    <script>\n",
              "      const buttonEl =\n",
              "        document.querySelector('#df-9923cef6-5026-4687-bbb4-e6df8f420548 button.colab-df-convert');\n",
              "      buttonEl.style.display =\n",
              "        google.colab.kernel.accessAllowed ? 'block' : 'none';\n",
              "\n",
              "      async function convertToInteractive(key) {\n",
              "        const element = document.querySelector('#df-9923cef6-5026-4687-bbb4-e6df8f420548');\n",
              "        const dataTable =\n",
              "          await google.colab.kernel.invokeFunction('convertToInteractive',\n",
              "                                                    [key], {});\n",
              "        if (!dataTable) return;\n",
              "\n",
              "        const docLinkHtml = 'Like what you see? Visit the ' +\n",
              "          '<a target=\"_blank\" href=https://colab.research.google.com/notebooks/data_table.ipynb>data table notebook</a>'\n",
              "          + ' to learn more about interactive tables.';\n",
              "        element.innerHTML = '';\n",
              "        dataTable['output_type'] = 'display_data';\n",
              "        await google.colab.output.renderOutput(dataTable, element);\n",
              "        const docLink = document.createElement('div');\n",
              "        docLink.innerHTML = docLinkHtml;\n",
              "        element.appendChild(docLink);\n",
              "      }\n",
              "    </script>\n",
              "  </div>\n",
              "\n",
              "\n",
              "    <div id=\"df-629257fd-1be1-4ccf-9bfb-25231376708a\">\n",
              "      <button class=\"colab-df-quickchart\" onclick=\"quickchart('df-629257fd-1be1-4ccf-9bfb-25231376708a')\"\n",
              "                title=\"Suggest charts\"\n",
              "                style=\"display:none;\">\n",
              "\n",
              "<svg xmlns=\"http://www.w3.org/2000/svg\" height=\"24px\"viewBox=\"0 0 24 24\"\n",
              "     width=\"24px\">\n",
              "    <g>\n",
              "        <path d=\"M19 3H5c-1.1 0-2 .9-2 2v14c0 1.1.9 2 2 2h14c1.1 0 2-.9 2-2V5c0-1.1-.9-2-2-2zM9 17H7v-7h2v7zm4 0h-2V7h2v10zm4 0h-2v-4h2v4z\"/>\n",
              "    </g>\n",
              "</svg>\n",
              "      </button>\n",
              "\n",
              "<style>\n",
              "  .colab-df-quickchart {\n",
              "      --bg-color: #E8F0FE;\n",
              "      --fill-color: #1967D2;\n",
              "      --hover-bg-color: #E2EBFA;\n",
              "      --hover-fill-color: #174EA6;\n",
              "      --disabled-fill-color: #AAA;\n",
              "      --disabled-bg-color: #DDD;\n",
              "  }\n",
              "\n",
              "  [theme=dark] .colab-df-quickchart {\n",
              "      --bg-color: #3B4455;\n",
              "      --fill-color: #D2E3FC;\n",
              "      --hover-bg-color: #434B5C;\n",
              "      --hover-fill-color: #FFFFFF;\n",
              "      --disabled-bg-color: #3B4455;\n",
              "      --disabled-fill-color: #666;\n",
              "  }\n",
              "\n",
              "  .colab-df-quickchart {\n",
              "    background-color: var(--bg-color);\n",
              "    border: none;\n",
              "    border-radius: 50%;\n",
              "    cursor: pointer;\n",
              "    display: none;\n",
              "    fill: var(--fill-color);\n",
              "    height: 32px;\n",
              "    padding: 0;\n",
              "    width: 32px;\n",
              "  }\n",
              "\n",
              "  .colab-df-quickchart:hover {\n",
              "    background-color: var(--hover-bg-color);\n",
              "    box-shadow: 0 1px 2px rgba(60, 64, 67, 0.3), 0 1px 3px 1px rgba(60, 64, 67, 0.15);\n",
              "    fill: var(--button-hover-fill-color);\n",
              "  }\n",
              "\n",
              "  .colab-df-quickchart-complete:disabled,\n",
              "  .colab-df-quickchart-complete:disabled:hover {\n",
              "    background-color: var(--disabled-bg-color);\n",
              "    fill: var(--disabled-fill-color);\n",
              "    box-shadow: none;\n",
              "  }\n",
              "\n",
              "  .colab-df-spinner {\n",
              "    border: 2px solid var(--fill-color);\n",
              "    border-color: transparent;\n",
              "    border-bottom-color: var(--fill-color);\n",
              "    animation:\n",
              "      spin 1s steps(1) infinite;\n",
              "  }\n",
              "\n",
              "  @keyframes spin {\n",
              "    0% {\n",
              "      border-color: transparent;\n",
              "      border-bottom-color: var(--fill-color);\n",
              "      border-left-color: var(--fill-color);\n",
              "    }\n",
              "    20% {\n",
              "      border-color: transparent;\n",
              "      border-left-color: var(--fill-color);\n",
              "      border-top-color: var(--fill-color);\n",
              "    }\n",
              "    30% {\n",
              "      border-color: transparent;\n",
              "      border-left-color: var(--fill-color);\n",
              "      border-top-color: var(--fill-color);\n",
              "      border-right-color: var(--fill-color);\n",
              "    }\n",
              "    40% {\n",
              "      border-color: transparent;\n",
              "      border-right-color: var(--fill-color);\n",
              "      border-top-color: var(--fill-color);\n",
              "    }\n",
              "    60% {\n",
              "      border-color: transparent;\n",
              "      border-right-color: var(--fill-color);\n",
              "    }\n",
              "    80% {\n",
              "      border-color: transparent;\n",
              "      border-right-color: var(--fill-color);\n",
              "      border-bottom-color: var(--fill-color);\n",
              "    }\n",
              "    90% {\n",
              "      border-color: transparent;\n",
              "      border-bottom-color: var(--fill-color);\n",
              "    }\n",
              "  }\n",
              "</style>\n",
              "\n",
              "      <script>\n",
              "        async function quickchart(key) {\n",
              "          const quickchartButtonEl =\n",
              "            document.querySelector('#' + key + ' button');\n",
              "          quickchartButtonEl.disabled = true;  // To prevent multiple clicks.\n",
              "          quickchartButtonEl.classList.add('colab-df-spinner');\n",
              "          try {\n",
              "            const charts = await google.colab.kernel.invokeFunction(\n",
              "                'suggestCharts', [key], {});\n",
              "          } catch (error) {\n",
              "            console.error('Error during call to suggestCharts:', error);\n",
              "          }\n",
              "          quickchartButtonEl.classList.remove('colab-df-spinner');\n",
              "          quickchartButtonEl.classList.add('colab-df-quickchart-complete');\n",
              "        }\n",
              "        (() => {\n",
              "          let quickchartButtonEl =\n",
              "            document.querySelector('#df-629257fd-1be1-4ccf-9bfb-25231376708a button');\n",
              "          quickchartButtonEl.style.display =\n",
              "            google.colab.kernel.accessAllowed ? 'block' : 'none';\n",
              "        })();\n",
              "      </script>\n",
              "    </div>\n",
              "\n",
              "    </div>\n",
              "  </div>\n"
            ],
            "application/vnd.google.colaboratory.intrinsic+json": {
              "type": "dataframe",
              "summary": "{\n  \"name\": \"estacion2\",\n  \"rows\": 5,\n  \"fields\": [\n    {\n      \"column\": \"hora\",\n      \"properties\": {\n        \"dtype\": \"date\",\n        \"min\": \"2025-10-11 00:00:00\",\n        \"max\": \"2025-10-11 08:00:00\",\n        \"num_unique_values\": 5,\n        \"samples\": [\n          \"2025-10-11 05:00:00\",\n          \"2025-10-11 00:00:00\",\n          \"2025-10-11 08:00:00\"\n        ],\n        \"semantic_type\": \"\",\n        \"description\": \"\"\n      }\n    },\n    {\n      \"column\": \"estacion\",\n      \"properties\": {\n        \"dtype\": \"category\",\n        \"num_unique_values\": 1,\n        \"samples\": [\n          \"E2\"\n        ],\n        \"semantic_type\": \"\",\n        \"description\": \"\"\n      }\n    },\n    {\n      \"column\": \"temperatura\",\n      \"properties\": {\n        \"dtype\": \"number\",\n        \"std\": 1.6492462725705772,\n        \"min\": 16.336559170246744,\n        \"max\": 20.307092239370398,\n        \"num_unique_values\": 5,\n        \"samples\": [\n          20.307092239370398\n        ],\n        \"semantic_type\": \"\",\n        \"description\": \"\"\n      }\n    },\n    {\n      \"column\": \"presion\",\n      \"properties\": {\n        \"dtype\": \"number\",\n        \"std\": 3.867517140069632,\n        \"min\": 1005.5641726071927,\n        \"max\": 1014.6185109495503,\n        \"num_unique_values\": 5,\n        \"samples\": [\n          1011.542477529867\n        ],\n        \"semantic_type\": \"\",\n        \"description\": \"\"\n      }\n    },\n    {\n      \"column\": \"humedad\",\n      \"properties\": {\n        \"dtype\": \"number\",\n        \"std\": 6.488467560010709,\n        \"min\": 48.00571457532338,\n        \"max\": 63.76557250558228,\n        \"num_unique_values\": 5,\n        \"samples\": [\n          57.38278586226911\n        ],\n        \"semantic_type\": \"\",\n        \"description\": \"\"\n      }\n    }\n  ]\n}"
            }
          },
          "metadata": {},
          "execution_count": 8
        }
      ]
    },
    {
      "cell_type": "markdown",
      "source": [
        "## concat - Unificamos dos datasets usando concat"
      ],
      "metadata": {
        "id": "_do4GqIO1ruI"
      }
    },
    {
      "cell_type": "markdown",
      "source": [
        " La forma más natural de unificarlos en pandas es usando:\n",
        "<BR>\n",
        "`pd.concat()`\n",
        "<BR>\n",
        "Sirve para apilar DataFrames (uno debajo del otro o lado a lado).\n",
        "Es ideal cuando los DataFrames tienen las mismas columnas (por ejemplo, mismo formato de mediciones de distintas estaciones).\n",
        "<BR>\n",
        "Por default, apila los datos verticalmente (uno debajo de otro), por lo que `axis = 0`\n",
        "<BR>\n",
        "Para ubicar los dataframes, uno seguido del otro, usamos el argumento `axis = 1`\n",
        "<BR>\n",
        "Cada dataframe tiene su index, por lo que es buena práctica al usar concat, regenerar el index en el dataframe resultante, para ello usamos `ignore_index=True`"
      ],
      "metadata": {
        "id": "Zpb6xvUE9nAO"
      }
    },
    {
      "cell_type": "code",
      "source": [
        "# Unificamos los datos de ambas estaciones\n"
      ],
      "metadata": {
        "id": "IDpeqzB62grv"
      },
      "execution_count": null,
      "outputs": []
    },
    {
      "cell_type": "markdown",
      "source": [
        "## merge - une los dataframes por una columna en común\n",
        "Lo usamos para comparar las mediciones de las estaciones\n"
      ],
      "metadata": {
        "id": "uEYMct-n6Ysn"
      }
    },
    {
      "cell_type": "code",
      "source": [
        "# Merge por la columna 'hora' (igual que un JOIN ON hora)\n"
      ],
      "metadata": {
        "id": "KJFZgc2h70Yv"
      },
      "execution_count": null,
      "outputs": []
    },
    {
      "cell_type": "markdown",
      "source": [
        "## join - une los dataframes por el index\n"
      ],
      "metadata": {
        "id": "v2GzJzJd87iu"
      }
    },
    {
      "cell_type": "code",
      "source": [
        "# Establecemos 'hora' como índice\n"
      ],
      "metadata": {
        "id": "kbZ3UcJzFwrj"
      },
      "execution_count": null,
      "outputs": []
    },
    {
      "cell_type": "code",
      "source": [
        "# Unimos por índice (hora)\n"
      ],
      "metadata": {
        "id": "2scuK7tfFeCc"
      },
      "execution_count": null,
      "outputs": []
    },
    {
      "cell_type": "code",
      "source": [
        "# Unimos solo la columna 'temperatura' de la segunda estación\n"
      ],
      "metadata": {
        "id": "jrue0GW1GfYj"
      },
      "execution_count": null,
      "outputs": []
    },
    {
      "cell_type": "code",
      "source": [
        "# Unimos solo las columnas de temperatura de ambas estaciones\n"
      ],
      "metadata": {
        "id": "YTLJ_HmxG88r"
      },
      "execution_count": null,
      "outputs": []
    },
    {
      "cell_type": "code",
      "source": [
        "# Vere un gráfico comparativo"
      ],
      "metadata": {
        "id": "GnKzRoHVHKkE"
      },
      "execution_count": null,
      "outputs": []
    },
    {
      "cell_type": "markdown",
      "source": [
        "Si trabajás con datos horarios o diarios, join() es muy cómodo porque muchas veces ya tenés el tiempo como índice (DatetimeIndex). Te permite hacer operaciones de series temporales como:"
      ],
      "metadata": {
        "id": "ZVhBi7cYGGAz"
      }
    },
    {
      "cell_type": "markdown",
      "source": [
        "# Importamos Dataset Booking - Hotels - Users\n",
        "https://www.kaggle.com/code/sonawanelalitsunil/international-hotel-booking-analytics-ml-34-75/notebook"
      ],
      "metadata": {
        "id": "psGGQmT1Opr1"
      }
    },
    {
      "cell_type": "code",
      "execution_count": null,
      "metadata": {
        "id": "_KJEp1MROjWM"
      },
      "outputs": [],
      "source": [
        "# Importar la librería Pandas\n",
        "import pandas as pd"
      ]
    },
    {
      "cell_type": "code",
      "source": [
        "# Montar la unidad\n",
        "from google.colab import drive\n",
        "drive.mount('/content/drive')"
      ],
      "metadata": {
        "id": "GITiGvLXOwxs"
      },
      "execution_count": null,
      "outputs": []
    },
    {
      "cell_type": "code",
      "source": [
        "# Verificar que los archivos csv se encuentren en la carpeta datasets\n",
        "import os\n",
        "os.listdir(\"/content/drive/MyDrive/datasets\")"
      ],
      "metadata": {
        "id": "1Q8NDn5FO0eb"
      },
      "execution_count": null,
      "outputs": []
    },
    {
      "cell_type": "code",
      "source": [
        "# Cambiamos el directorio para importar con facilidad\n",
        "os.chdir(\"/content/drive/MyDrive/datasets\")\n",
        "os.listdir(\".\")"
      ],
      "metadata": {
        "id": "JJir5SOAPP5s"
      },
      "execution_count": null,
      "outputs": []
    },
    {
      "cell_type": "code",
      "source": [
        "# Importamos Reviews\n",
        "reviews = pd.read_csv('reviews.csv')"
      ],
      "metadata": {
        "id": "CQoUxd_2PBmc"
      },
      "execution_count": null,
      "outputs": []
    },
    {
      "cell_type": "code",
      "source": [
        "# Importamos Hotels\n",
        "hotels = pd.read_csv('hotels.csv')"
      ],
      "metadata": {
        "id": "M9bcJI7SPasU"
      },
      "execution_count": null,
      "outputs": []
    },
    {
      "cell_type": "code",
      "source": [
        "# Importamos Users\n",
        "users = pd.read_csv('users.csv')"
      ],
      "metadata": {
        "id": "VmFkwKdMPgpk"
      },
      "execution_count": null,
      "outputs": []
    },
    {
      "cell_type": "markdown",
      "source": [
        "## Actividad 1 (Dificultad *)\n",
        "Reproducir la siguiente consulta SQL con Pandas\n",
        "\n",
        "\n",
        "```\n",
        "select h.hotel_name, h.country, r.score_overall\n",
        "from  hotels h join reviews r\n",
        "on h.hotel_id == r.hotel_id\n",
        "```"
      ],
      "metadata": {
        "id": "OM3GhHDLPhRs"
      }
    },
    {
      "cell_type": "code",
      "source": [
        "# Merge (equivalente al SQL JOIN)\n"
      ],
      "metadata": {
        "id": "9pAxPg47QeH8"
      },
      "execution_count": null,
      "outputs": []
    },
    {
      "cell_type": "code",
      "source": [
        "# Seleccionamos solo las columnas que nos solicitan\n"
      ],
      "metadata": {
        "id": "SsyaG4V7RjeM"
      },
      "execution_count": null,
      "outputs": []
    },
    {
      "cell_type": "markdown",
      "source": [
        "## Actividad 2 (Dificultad *)\n",
        "Reproducir la siguiente consulta SQL con Pandas\n",
        "\n",
        "\n",
        "```\n",
        "select h.hotel_name, h.country, avg(r.score_overall) as avg_score\n",
        "from  hotels h join reviews r\n",
        "on h.hotel_id == r.hotel_id\n",
        "GROUP by h.hotel_name, h.country\n",
        "```"
      ],
      "metadata": {
        "id": "jAZtiDYcPXtl"
      }
    },
    {
      "cell_type": "code",
      "source": [
        "# Merge (equivalente al SQL JOIN)\n"
      ],
      "metadata": {
        "id": "D6Qw7xsNQdiV"
      },
      "execution_count": null,
      "outputs": []
    },
    {
      "cell_type": "code",
      "source": [
        "# Agrupación / Agregación\n"
      ],
      "metadata": {
        "id": "1BsoSM6ISPJ0"
      },
      "execution_count": null,
      "outputs": []
    },
    {
      "cell_type": "markdown",
      "source": [
        "## Actividad 3 (Dificultad ***)\n",
        "Reproducir la siguiente consulta SQL con Pandas\n",
        "\n",
        "\n",
        "```\n",
        "select h.hotel_name, h.country, avg(r.score_overall) as avg_score\n",
        "from  hotels h join reviews r\n",
        "on h.hotel_id == r.hotel_id\n",
        "WHERE h.country like '%argentina%'\n",
        "GROUP by h.hotel_name, h.country\n",
        "```\n",
        "\n"
      ],
      "metadata": {
        "id": "s9AVlDLrVYkK"
      }
    },
    {
      "cell_type": "code",
      "source": [
        "# Merge (equivalente al SQL JOIN)\n"
      ],
      "metadata": {
        "id": "DahBgo4NPi-z"
      },
      "execution_count": null,
      "outputs": []
    },
    {
      "cell_type": "code",
      "source": [
        "# Filtro (equivalente al WHERE con LIKE)\n",
        "\n"
      ],
      "metadata": {
        "id": "4jc3uuS3VCLb"
      },
      "execution_count": null,
      "outputs": []
    },
    {
      "cell_type": "code",
      "source": [
        "# Agrupación y promedio (equivalente al GROUP BY y AVG)\n"
      ],
      "metadata": {
        "id": "SrjCleHDVTMr"
      },
      "execution_count": null,
      "outputs": []
    },
    {
      "cell_type": "markdown",
      "source": [
        "## Bonus Track\n",
        "Usar OpenStreetMap para encontrar la dirección del Hotel"
      ],
      "metadata": {
        "id": "pzmqNe2uTaBE"
      }
    },
    {
      "cell_type": "code",
      "source": [
        "# https://www.openstreetmap.org/search?lat=-34.6037&lon=-58.3816&zoom=10#map=12/-37.2888/-59.1229"
      ],
      "metadata": {
        "id": "wMA5K2m7Thnz"
      },
      "execution_count": null,
      "outputs": []
    }
  ]
}