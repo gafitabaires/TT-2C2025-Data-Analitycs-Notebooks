{
  "nbformat": 4,
  "nbformat_minor": 0,
  "metadata": {
    "colab": {
      "provenance": [],
      "toc_visible": true
    },
    "kernelspec": {
      "name": "python3",
      "display_name": "Python 3"
    },
    "language_info": {
      "name": "python"
    }
  },
  "cells": [
    {
      "cell_type": "markdown",
      "source": [
        "# Terminología"
      ],
      "metadata": {
        "id": "9jP6Wn78i7KH"
      }
    },
    {
      "cell_type": "markdown",
      "source": [
        "* Observaciones: son las unidades sobre las cuales se miden los datos\n",
        "* Población: es el conjunto de todas las unidades de estudio\n",
        "* Muestra: es un conjunto de observaciones de la población\n",
        "* Variable: es una característica particular de la población que se recolecta estadísticamente"
      ],
      "metadata": {
        "id": "52okAtp0jEO2"
      }
    },
    {
      "cell_type": "markdown",
      "source": [
        "# Medidas de tendendia central"
      ],
      "metadata": {
        "id": "Dcvs2p-htS6z"
      }
    },
    {
      "cell_type": "markdown",
      "source": [
        "Las medidas de tendencia central son fundamentales en estadística, ya que nos\n",
        "permiten resumir un conjunto de datos mediante un valor que representa el centro\n",
        "de la distribución. Las tres medidas más comunes son la `media`, la `mediana` y\n",
        "la `moda`."
      ],
      "metadata": {
        "id": "RcGJvYOhtXLr"
      }
    },
    {
      "cell_type": "code",
      "execution_count": 1,
      "metadata": {
        "id": "ATsvmwExi42d"
      },
      "outputs": [],
      "source": [
        "import pandas as pd"
      ]
    },
    {
      "cell_type": "code",
      "source": [
        "# Creamos una Serie con los notas\n",
        "notas1 = pd.Series([4,7,5,9,7],\n",
        "                name=\"Calificaciones\")"
      ],
      "metadata": {
        "id": "ljZZF6UZtqzb"
      },
      "execution_count": 2,
      "outputs": []
    },
    {
      "cell_type": "code",
      "source": [
        "notas1"
      ],
      "metadata": {
        "id": "CjmtYJijtr1b",
        "outputId": "2759b1cf-df85-46eb-c978-9b70c18be577",
        "colab": {
          "base_uri": "https://localhost:8080/",
          "height": 241
        }
      },
      "execution_count": 3,
      "outputs": [
        {
          "output_type": "execute_result",
          "data": {
            "text/plain": [
              "0    4\n",
              "1    7\n",
              "2    5\n",
              "3    9\n",
              "4    7\n",
              "Name: Calificaciones, dtype: int64"
            ],
            "text/html": [
              "<div>\n",
              "<style scoped>\n",
              "    .dataframe tbody tr th:only-of-type {\n",
              "        vertical-align: middle;\n",
              "    }\n",
              "\n",
              "    .dataframe tbody tr th {\n",
              "        vertical-align: top;\n",
              "    }\n",
              "\n",
              "    .dataframe thead th {\n",
              "        text-align: right;\n",
              "    }\n",
              "</style>\n",
              "<table border=\"1\" class=\"dataframe\">\n",
              "  <thead>\n",
              "    <tr style=\"text-align: right;\">\n",
              "      <th></th>\n",
              "      <th>Calificaciones</th>\n",
              "    </tr>\n",
              "  </thead>\n",
              "  <tbody>\n",
              "    <tr>\n",
              "      <th>0</th>\n",
              "      <td>4</td>\n",
              "    </tr>\n",
              "    <tr>\n",
              "      <th>1</th>\n",
              "      <td>7</td>\n",
              "    </tr>\n",
              "    <tr>\n",
              "      <th>2</th>\n",
              "      <td>5</td>\n",
              "    </tr>\n",
              "    <tr>\n",
              "      <th>3</th>\n",
              "      <td>9</td>\n",
              "    </tr>\n",
              "    <tr>\n",
              "      <th>4</th>\n",
              "      <td>7</td>\n",
              "    </tr>\n",
              "  </tbody>\n",
              "</table>\n",
              "</div><br><label><b>dtype:</b> int64</label>"
            ]
          },
          "metadata": {},
          "execution_count": 3
        }
      ]
    },
    {
      "cell_type": "markdown",
      "source": [
        "## Media\n",
        "La media, o promedio, es la suma de todos los valores de un conjunto de datos\n",
        "dividida por la cantidad total de valores. Se expresa de la siguiente manera:"
      ],
      "metadata": {
        "id": "fd4IGo0IuI9r"
      }
    },
    {
      "cell_type": "code",
      "source": [
        "media1 = sum(notas1)/len(notas1)\n",
        "media1"
      ],
      "metadata": {
        "id": "26gSE7FVyvl7",
        "outputId": "4ad221b1-dffe-4399-abfa-cd6ece1a6c6c",
        "colab": {
          "base_uri": "https://localhost:8080/"
        }
      },
      "execution_count": 4,
      "outputs": [
        {
          "output_type": "execute_result",
          "data": {
            "text/plain": [
              "6.4"
            ]
          },
          "metadata": {},
          "execution_count": 4
        }
      ]
    },
    {
      "cell_type": "code",
      "source": [
        "# Calculamos la media del peso de los paquetes\n",
        "media1 = notas1.mean()\n",
        "media1"
      ],
      "metadata": {
        "id": "8rQpo8xOtb17",
        "outputId": "0864e0cd-7633-4f06-a2b2-57888d8308d8",
        "colab": {
          "base_uri": "https://localhost:8080/"
        }
      },
      "execution_count": 5,
      "outputs": [
        {
          "output_type": "execute_result",
          "data": {
            "text/plain": [
              "np.float64(6.4)"
            ]
          },
          "metadata": {},
          "execution_count": 5
        }
      ]
    },
    {
      "cell_type": "markdown",
      "source": [
        "## Mediana\n",
        "La mediana es el valor que se encuentra en el medio de un conjunto de datos\n",
        "cuando están ordenados. Si el número de observaciones es impar, la mediana es el\n",
        "valor central; si es par, se promedian los dos valores centrales."
      ],
      "metadata": {
        "id": "iu473xi7uZ2r"
      }
    },
    {
      "cell_type": "code",
      "source": [
        "notas1 = notas1.sort_values()\n",
        "notas1 = notas1.reset_index(drop=True)\n",
        "notas1"
      ],
      "metadata": {
        "id": "IVdam_HTui-r",
        "outputId": "8f896f78-5658-4ffd-a086-a12b262d8ea5",
        "colab": {
          "base_uri": "https://localhost:8080/",
          "height": 241
        }
      },
      "execution_count": 11,
      "outputs": [
        {
          "output_type": "execute_result",
          "data": {
            "text/plain": [
              "0    4\n",
              "1    5\n",
              "2    7\n",
              "3    7\n",
              "4    9\n",
              "Name: Calificaciones, dtype: int64"
            ],
            "text/html": [
              "<div>\n",
              "<style scoped>\n",
              "    .dataframe tbody tr th:only-of-type {\n",
              "        vertical-align: middle;\n",
              "    }\n",
              "\n",
              "    .dataframe tbody tr th {\n",
              "        vertical-align: top;\n",
              "    }\n",
              "\n",
              "    .dataframe thead th {\n",
              "        text-align: right;\n",
              "    }\n",
              "</style>\n",
              "<table border=\"1\" class=\"dataframe\">\n",
              "  <thead>\n",
              "    <tr style=\"text-align: right;\">\n",
              "      <th></th>\n",
              "      <th>Calificaciones</th>\n",
              "    </tr>\n",
              "  </thead>\n",
              "  <tbody>\n",
              "    <tr>\n",
              "      <th>0</th>\n",
              "      <td>4</td>\n",
              "    </tr>\n",
              "    <tr>\n",
              "      <th>1</th>\n",
              "      <td>5</td>\n",
              "    </tr>\n",
              "    <tr>\n",
              "      <th>2</th>\n",
              "      <td>7</td>\n",
              "    </tr>\n",
              "    <tr>\n",
              "      <th>3</th>\n",
              "      <td>7</td>\n",
              "    </tr>\n",
              "    <tr>\n",
              "      <th>4</th>\n",
              "      <td>9</td>\n",
              "    </tr>\n",
              "  </tbody>\n",
              "</table>\n",
              "</div><br><label><b>dtype:</b> int64</label>"
            ]
          },
          "metadata": {},
          "execution_count": 11
        }
      ]
    },
    {
      "cell_type": "code",
      "source": [
        "mediana1 = notas1.median()\n",
        "mediana1"
      ],
      "metadata": {
        "id": "PI-FsXcAyJdy",
        "outputId": "c3b42144-7dad-44ad-9cc4-38cb18600252",
        "colab": {
          "base_uri": "https://localhost:8080/"
        }
      },
      "execution_count": 8,
      "outputs": [
        {
          "output_type": "execute_result",
          "data": {
            "text/plain": [
              "7.0"
            ]
          },
          "metadata": {},
          "execution_count": 8
        }
      ]
    },
    {
      "cell_type": "code",
      "source": [
        "# Creamos una Serie con cantidad par de notas\n",
        "notas2 = pd.Series([4,5,6,7,8,9],\n",
        "                name=\"Calificaciones\")"
      ],
      "metadata": {
        "id": "4KhdLvbnxpCD"
      },
      "execution_count": 6,
      "outputs": []
    },
    {
      "cell_type": "code",
      "source": [
        "notas2 = notas2.sort_values()\n",
        "notas2 = notas2.reset_index(drop=True)\n",
        "notas2"
      ],
      "metadata": {
        "id": "L5et8BrayPpC"
      },
      "execution_count": null,
      "outputs": []
    },
    {
      "cell_type": "code",
      "source": [
        "# Calculamos la mediana del peso de los paquetes\n",
        "mediana = notas2.median()\n",
        "mediana"
      ],
      "metadata": {
        "id": "VUJHH326ueIb",
        "outputId": "5c5da5f1-23f4-4a9c-dd95-728ca23611f8",
        "colab": {
          "base_uri": "https://localhost:8080/"
        }
      },
      "execution_count": 9,
      "outputs": [
        {
          "output_type": "execute_result",
          "data": {
            "text/plain": [
              "6.5"
            ]
          },
          "metadata": {},
          "execution_count": 9
        }
      ]
    },
    {
      "cell_type": "markdown",
      "source": [
        "## Moda\n",
        "La moda es el valor que aparece con mayor frecuencia en un conjunto de datos."
      ],
      "metadata": {
        "id": "qtPEkYo-vzG8"
      }
    },
    {
      "cell_type": "code",
      "source": [
        "# Calculamos la moda del conjunto de pesos\n",
        "moda1 = notas1.mode()\n",
        "moda1"
      ],
      "metadata": {
        "id": "-VgLGo7Xv8pz",
        "outputId": "078a1f9d-7457-4ea3-8cc4-654c06a761e3",
        "colab": {
          "base_uri": "https://localhost:8080/",
          "height": 115
        }
      },
      "execution_count": 10,
      "outputs": [
        {
          "output_type": "execute_result",
          "data": {
            "text/plain": [
              "0    7\n",
              "Name: Calificaciones, dtype: int64"
            ],
            "text/html": [
              "<div>\n",
              "<style scoped>\n",
              "    .dataframe tbody tr th:only-of-type {\n",
              "        vertical-align: middle;\n",
              "    }\n",
              "\n",
              "    .dataframe tbody tr th {\n",
              "        vertical-align: top;\n",
              "    }\n",
              "\n",
              "    .dataframe thead th {\n",
              "        text-align: right;\n",
              "    }\n",
              "</style>\n",
              "<table border=\"1\" class=\"dataframe\">\n",
              "  <thead>\n",
              "    <tr style=\"text-align: right;\">\n",
              "      <th></th>\n",
              "      <th>Calificaciones</th>\n",
              "    </tr>\n",
              "  </thead>\n",
              "  <tbody>\n",
              "    <tr>\n",
              "      <th>0</th>\n",
              "      <td>7</td>\n",
              "    </tr>\n",
              "  </tbody>\n",
              "</table>\n",
              "</div><br><label><b>dtype:</b> int64</label>"
            ]
          },
          "metadata": {},
          "execution_count": 10
        }
      ]
    },
    {
      "cell_type": "markdown",
      "source": [
        "# Cuartiles y percentiles\n",
        "Tanto los cuartiles como los percentiles son herramientas estadísticas valiosas para\n",
        "resumir datasets, identificar outliers (valores atípicos) y entender la variabilidad en\n",
        "los datos. Estas medidas permiten que los analistas tomen decisiones, al señalar\n",
        "dónde se encuentran los valores extremos y cómo se distribuyen en relación con el\n",
        "conjunto total."
      ],
      "metadata": {
        "id": "rJFXTYDW0Z9J"
      }
    },
    {
      "cell_type": "code",
      "source": [
        "# puntuaciones = pd.Series([56,74,68,82,90,62,78,84,88,95,56,74,68,82,90,62,78,84,88,95])\n",
        "puntuaciones = pd.Series([16,74,68,82,90,62,78,84,88,95,56,74,68,82,90,62,78,84,88,95])"
      ],
      "metadata": {
        "id": "pjqqi1tJ3klB"
      },
      "execution_count": 12,
      "outputs": []
    },
    {
      "cell_type": "code",
      "source": [
        "media = puntuaciones.mean()\n",
        "mediana = puntuaciones.median()\n",
        "Q1 = puntuaciones.quantile(0.25)\n",
        "Q2 = puntuaciones.quantile(0.50)\n",
        "Q3 = puntuaciones.quantile(0.75)"
      ],
      "metadata": {
        "id": "aSdIBQ5N2-GZ"
      },
      "execution_count": 13,
      "outputs": []
    },
    {
      "cell_type": "code",
      "source": [
        "print(f\"Q1: {Q1}\")\n",
        "print(f\"Media: {media}\")\n",
        "print(f\"Mediana: {mediana}\")\n",
        "print(f\"Q2: {Q2}\")\n",
        "print(f\"Q3: {Q3}\")"
      ],
      "metadata": {
        "id": "hn_cZyPd3tdx",
        "outputId": "f0fb5ada-6a5b-4a34-f6c9-5e6e62c66dc2",
        "colab": {
          "base_uri": "https://localhost:8080/"
        }
      },
      "execution_count": 14,
      "outputs": [
        {
          "output_type": "stream",
          "name": "stdout",
          "text": [
            "Q1: 68.0\n",
            "Media: 75.7\n",
            "Mediana: 80.0\n",
            "Q2: 80.0\n",
            "Q3: 88.0\n"
          ]
        }
      ]
    },
    {
      "cell_type": "code",
      "source": [
        "import numpy as np\n",
        "\n",
        "# Cálculo de cuartiles\n",
        "Q1 = np.percentile(puntuaciones, 25)\n",
        "Q2 = np.percentile(puntuaciones, 50) # Mediana\n",
        "Q3 = np.percentile(puntuaciones, 75)\n",
        "print(f\"Primer cuartil (Q1): {Q1}\")\n",
        "print(f\"Segundo cuartil (Q2 - Mediana): {Q2}\")\n",
        "print(f\"Tercer cuartil (Q3): {Q3}\")"
      ],
      "metadata": {
        "id": "GlZ4yvN44LdQ",
        "outputId": "36522cc2-ff3a-4f07-80b8-2e41094732ef",
        "colab": {
          "base_uri": "https://localhost:8080/"
        }
      },
      "execution_count": 20,
      "outputs": [
        {
          "output_type": "stream",
          "name": "stdout",
          "text": [
            "Primer cuartil (Q1): 68.0\n",
            "Segundo cuartil (Q2 - Mediana): 80.0\n",
            "Tercer cuartil (Q3): 88.0\n"
          ]
        }
      ]
    },
    {
      "cell_type": "markdown",
      "source": [
        "# Rango intercuartil\n",
        "El rango intercuartílico (RIC) es una medida de dispersión que describe la variabilidad de la mitad central de un conjunto de datos.\n",
        "<BR>\n",
        "Se calcula como la diferencia entre el tercer cuartil (Q3) y el primer cuartil (Q1):\n",
        "<BR>\n",
        "\n",
        "`RIC=Q3-Q1`\n",
        "\n",
        "<BR>\n",
        "\n",
        "* Es una medida de variabilidad: muestra cuánto se dispersan los datos alrededor de la mediana.\n",
        "\n",
        "* Es robusta frente a valores atípicos y, por eso, es muy útil en distribuciones sesgadas.\n",
        "\n",
        "* Se visualiza fácilmente en un diagrama de caja (boxplot), donde representa el “cuerpo” o caja central que contiene el 50% de los datos.*\n"
      ],
      "metadata": {
        "id": "mec8cqBG4i4x"
      }
    },
    {
      "cell_type": "code",
      "source": [
        "# Calculamos el RIC de las puntuaciones\n",
        "RIC = Q3 - Q1\n",
        "RIC"
      ],
      "metadata": {
        "id": "IIOwPGR774f4",
        "outputId": "e910aa68-a57d-4f0a-e54e-d32244acd299",
        "colab": {
          "base_uri": "https://localhost:8080/"
        }
      },
      "execution_count": 17,
      "outputs": [
        {
          "output_type": "execute_result",
          "data": {
            "text/plain": [
              "np.float64(20.0)"
            ]
          },
          "metadata": {},
          "execution_count": 17
        }
      ]
    },
    {
      "cell_type": "code",
      "source": [
        "# Validamos con el describe\n",
        "puntuaciones.describe()"
      ],
      "metadata": {
        "id": "-jJfgdLE7-63",
        "outputId": "6c20f9f2-a6b5-4c09-b09a-1fc194a782ff",
        "colab": {
          "base_uri": "https://localhost:8080/",
          "height": 335
        }
      },
      "execution_count": 21,
      "outputs": [
        {
          "output_type": "execute_result",
          "data": {
            "text/plain": [
              "count    20.000000\n",
              "mean     75.700000\n",
              "std      17.971029\n",
              "min      16.000000\n",
              "25%      68.000000\n",
              "50%      80.000000\n",
              "75%      88.000000\n",
              "max      95.000000\n",
              "dtype: float64"
            ],
            "text/html": [
              "<div>\n",
              "<style scoped>\n",
              "    .dataframe tbody tr th:only-of-type {\n",
              "        vertical-align: middle;\n",
              "    }\n",
              "\n",
              "    .dataframe tbody tr th {\n",
              "        vertical-align: top;\n",
              "    }\n",
              "\n",
              "    .dataframe thead th {\n",
              "        text-align: right;\n",
              "    }\n",
              "</style>\n",
              "<table border=\"1\" class=\"dataframe\">\n",
              "  <thead>\n",
              "    <tr style=\"text-align: right;\">\n",
              "      <th></th>\n",
              "      <th>0</th>\n",
              "    </tr>\n",
              "  </thead>\n",
              "  <tbody>\n",
              "    <tr>\n",
              "      <th>count</th>\n",
              "      <td>20.000000</td>\n",
              "    </tr>\n",
              "    <tr>\n",
              "      <th>mean</th>\n",
              "      <td>75.700000</td>\n",
              "    </tr>\n",
              "    <tr>\n",
              "      <th>std</th>\n",
              "      <td>17.971029</td>\n",
              "    </tr>\n",
              "    <tr>\n",
              "      <th>min</th>\n",
              "      <td>16.000000</td>\n",
              "    </tr>\n",
              "    <tr>\n",
              "      <th>25%</th>\n",
              "      <td>68.000000</td>\n",
              "    </tr>\n",
              "    <tr>\n",
              "      <th>50%</th>\n",
              "      <td>80.000000</td>\n",
              "    </tr>\n",
              "    <tr>\n",
              "      <th>75%</th>\n",
              "      <td>88.000000</td>\n",
              "    </tr>\n",
              "    <tr>\n",
              "      <th>max</th>\n",
              "      <td>95.000000</td>\n",
              "    </tr>\n",
              "  </tbody>\n",
              "</table>\n",
              "</div><br><label><b>dtype:</b> float64</label>"
            ]
          },
          "metadata": {},
          "execution_count": 21
        }
      ]
    },
    {
      "cell_type": "markdown",
      "source": [
        "# Outlier\n",
        "Un outlier se define como una observación inferior al primer cuartil o superior al tercer cuartil, cuya distancia excede `1.5*RIC`"
      ],
      "metadata": {
        "id": "lrafzpUhDXCj"
      }
    },
    {
      "cell_type": "code",
      "source": [
        "# En nuestro caso:\n",
        "outlier_superior = Q3 + 1.5*RIC\n",
        "outlier_inferior = Q1 - 1.5*RIC\n",
        "print(f\"Outlier superior: {outlier_superior}\")\n",
        "print(f\"Outlier inferior: {outlier_inferior}\")"
      ],
      "metadata": {
        "id": "HawWl3_1Dpni",
        "outputId": "4fbedfd3-3d18-4a86-dc83-8bfbeeff628c",
        "colab": {
          "base_uri": "https://localhost:8080/"
        }
      },
      "execution_count": 23,
      "outputs": [
        {
          "output_type": "stream",
          "name": "stdout",
          "text": [
            "Outlier superior: 118.0\n",
            "Outlier inferior: 38.0\n"
          ]
        }
      ]
    },
    {
      "cell_type": "markdown",
      "source": [
        "# Boxplot\n",
        "Un boxplot, también conocido como diagrama de\n",
        "caja y bigotes, es un gráfico que muestra cómo se\n",
        "distribuyen los datos numéricos.\n",
        "* Muestra la mediana y los cuartiles de los\n",
        "datos\n",
        "* Identifica valores atípicos\n",
        "* Permite intuir la morfología y simetría de los\n",
        "datos\n",
        "* Se puede dibujar más de un diagrama de\n",
        "caja por gráfico"
      ],
      "metadata": {
        "id": "tWOcCANIDB2K"
      }
    },
    {
      "cell_type": "markdown",
      "source": [
        "Componentes:\n",
        "* Cajas: Representan el rango intercuartílico (IQR) de los datos\n",
        "* Bigotes: Son líneas que se extienden desde ambos extremos de la caja.\n",
        "* Valores atípicos: Son puntos fuera de los bigotes considerados inusuales o\n",
        "extremos\n",
        "* Gorros: Son líneas perpendiculares en los extremos de los bigotes"
      ],
      "metadata": {
        "id": "dT91_mS1DO07"
      }
    },
    {
      "cell_type": "code",
      "source": [
        "import pandas as pd\n",
        "import seaborn as sns\n",
        "import matplotlib.pyplot as plt\n",
        "\n",
        "# Crear la Serie\n",
        "puntuaciones = pd.Series(\n",
        "    [56,74,68,82,90,62,78,84,88,95,56,74,68,82,90,62,78,84,88,95],\n",
        "    name=\"Puntuaciones\"\n",
        ")\n",
        "\n",
        "sns.set_theme(style=\"whitegrid\")\n",
        "\n",
        "plt.figure(figsize=(8, 4))\n",
        "\n",
        "# Crear el boxplot\n",
        "sns.boxplot(x=puntuaciones, color=\"skyblue\")\n",
        "\n",
        "# Calcular y graficar la media\n",
        "# media = puntuaciones.mean()\n",
        "# plt.axvline(media, color=\"red\", linestyle=\"--\", linewidth=2, label=f\"Media = {media:.1f}\")\n",
        "\n",
        "# Personalizar\n",
        "plt.title(\"Distribución de Puntuaciones con Media\", fontsize=14, fontweight=\"bold\")\n",
        "plt.xlabel(\"Puntuaciones\", fontsize=12)\n",
        "plt.legend()\n",
        "\n",
        "plt.show()"
      ],
      "metadata": {
        "id": "2T5VPgdHEsvq",
        "outputId": "6af9f1ee-ba37-4e2b-b5f9-5b4f963886a6",
        "colab": {
          "base_uri": "https://localhost:8080/",
          "height": 475
        }
      },
      "execution_count": 24,
      "outputs": [
        {
          "output_type": "stream",
          "name": "stderr",
          "text": [
            "/tmp/ipython-input-559074105.py:25: UserWarning: No artists with labels found to put in legend.  Note that artists whose label start with an underscore are ignored when legend() is called with no argument.\n",
            "  plt.legend()\n"
          ]
        },
        {
          "output_type": "display_data",
          "data": {
            "text/plain": [
              "<Figure size 800x400 with 1 Axes>"
            ],
            "image/png": "[encoded data removed]"
          },
          "metadata": {}
        }
      ]
    },
    {
      "cell_type": "markdown",
      "source": [
        "# Medidas de variabilidad o de dispersión"
      ],
      "metadata": {
        "id": "O0gaKTlrznXS"
      }
    },
    {
      "cell_type": "markdown",
      "source": [
        "Las medidas de dispersión nos brindan información sobre la variabilidad de los\n",
        "datos, es decir, cuán alejados están estos valores de la tendencia central. Las más utilizadas son el `rango`, la `varianza` y la `desviación standard`."
      ],
      "metadata": {
        "id": "7FaKTUoIFfGi"
      }
    },
    {
      "cell_type": "markdown",
      "source": [
        "## Rango\n",
        "El rango es la diferencia entre el valor máximo y el mínimo de un conjunto de datos."
      ],
      "metadata": {
        "id": "sSmRCWNYFz2R"
      }
    },
    {
      "cell_type": "code",
      "source": [
        "minimo = puntuaciones.min()\n",
        "maximo = puntuaciones.max()\n",
        "rango = maximo - minimo\n",
        "print(f\"Rango: {rango}\")"
      ],
      "metadata": {
        "id": "aQ41TfR0F39K"
      },
      "execution_count": null,
      "outputs": []
    },
    {
      "cell_type": "code",
      "source": [
        "# Calculado con np\n",
        "rango = np.max(puntuaciones) - np.min(puntuaciones)\n",
        "rango"
      ],
      "metadata": {
        "id": "Hpf6yHyyF-pS"
      },
      "execution_count": null,
      "outputs": []
    },
    {
      "cell_type": "markdown",
      "source": [
        "## Varianza\n",
        "La varianza mide cuán dispersos están los valores respecto a la media. Se calcula\n",
        "como el promedio de las diferencias al cuadrado entre cada valor y la media:"
      ],
      "metadata": {
        "id": "AVKhwPK4GFLC"
      }
    },
    {
      "cell_type": "code",
      "source": [
        "varianza = np.var(puntuaciones)\n",
        "print(f\"La varianza es: {varianza}\")"
      ],
      "metadata": {
        "id": "X7H1QkVcHU2K",
        "outputId": "24e37108-a669-424a-d901-62f566462403",
        "colab": {
          "base_uri": "https://localhost:8080/"
        }
      },
      "execution_count": 30,
      "outputs": [
        {
          "output_type": "stream",
          "name": "stdout",
          "text": [
            "La varianza es: 144.01000000000005\n"
          ]
        }
      ]
    },
    {
      "cell_type": "markdown",
      "source": [
        "## Desvío Standard\n",
        "La desviación standard es la raíz cuadrada de la varianza, proporcionando una\n",
        "medida de dispersión en las mismas unidades que los datos originales. Se calcula\n",
        "de la siguiente manera:"
      ],
      "metadata": {
        "id": "p4NyqTMOHaSq"
      }
    },
    {
      "cell_type": "code",
      "source": [
        "desviacion_estandar = np.std(puntuaciones)\n",
        "desviacion_estandar"
      ],
      "metadata": {
        "id": "LzQd1b6CHjiC",
        "outputId": "31194689-7454-4e9b-f44c-8d51fe4a2079",
        "colab": {
          "base_uri": "https://localhost:8080/"
        }
      },
      "execution_count": 31,
      "outputs": [
        {
          "output_type": "execute_result",
          "data": {
            "text/plain": [
              "12.000416659433123"
            ]
          },
          "metadata": {},
          "execution_count": 31
        }
      ]
    },
    {
      "cell_type": "markdown",
      "source": [
        "# Histograma\n",
        "Un histograma es una representación gráfica que muestra cómo se distribuyen los datos numéricos.\n",
        "Divide los valores en intervalos (bins) y muestra cuántos datos caen en cada intervalo.\n",
        "<BR>\n",
        "* El eje X representa los valores (por ejemplo, las puntuaciones).\n",
        "\n",
        "* El eje Y muestra la frecuencia (cuántos datos hay en cada bin).\n",
        "\n",
        "* Permite visualizar la forma de la distribución: si es simétrica, sesgada, o tiene valores atípicos."
      ],
      "metadata": {
        "id": "RJnGRSzBHpax"
      }
    },
    {
      "cell_type": "code",
      "source": [
        "import pandas as pd\n",
        "import seaborn as sns\n",
        "import matplotlib.pyplot as plt\n",
        "\n",
        "# Datos\n",
        "puntuaciones = pd.Series(\n",
        "    [56,74,68,82,90,62,78,84,88,95,56,74,68,82,90,62,78,84,88,95],\n",
        "    name=\"Puntuaciones\"\n",
        ")\n",
        "\n",
        "# Configurar estilo\n",
        "sns.set_theme(style=\"whitegrid\")\n",
        "\n",
        "# Crear histograma\n",
        "plt.figure(figsize=(7, 3))\n",
        "sns.histplot(puntuaciones, bins=\"auto\", kde=True, color=\"skyblue\")\n",
        "\n",
        "# Personalizar\n",
        "plt.title(\"Histograma de Puntuaciones\", fontsize=14, fontweight=\"bold\")\n",
        "plt.xlabel(\"Puntuaciones\")\n",
        "plt.ylabel(\"Frecuencia\")\n",
        "plt.tight_layout()\n",
        "plt.show()\n"
      ],
      "metadata": {
        "id": "t0mWox2pJO5h",
        "outputId": "0d97a67b-5eba-42a8-fe3f-5974fae6dc13",
        "colab": {
          "base_uri": "https://localhost:8080/",
          "height": 301
        }
      },
      "execution_count": 32,
      "outputs": [
        {
          "output_type": "display_data",
          "data": {
            "text/plain": [
              "<Figure size 700x300 with 1 Axes>"
            ],
            "image/png": "[encoded data removed]"
          },
          "metadata": {}
        }
      ]
    },
    {
      "cell_type": "markdown",
      "source": [
        "# Actividad con el dataset Iris"
      ],
      "metadata": {
        "id": "Go8vaXbDKQ15"
      }
    },
    {
      "cell_type": "markdown",
      "source": [
        "El dataset Iris es uno de los conjuntos de datos más clásicos y utilizados en estadística, aprendizaje automático y análisis exploratorio de datos.\n",
        "Fue introducido por el botánico Ronald A. Fisher en 1936 para demostrar técnicas de clasificación.\n",
        "<BR>\n",
        "Contiene 150 observaciones de flores del género Iris, distribuidas en 3 especies:\n",
        "\n",
        "* Iris setosa\n",
        "* Iris versicolor\n",
        "* Iris virginica\n",
        "\n",
        "<BR>\n",
        "Cada flor se describe mediante cuatro variables numéricas continuas (en centímetros):\n",
        "\n",
        "<BR>\n",
        "Variable\tDescripción\n",
        "* sepal_length\tLargo del sépalo\n",
        "* sepal_width\tAncho del sépalo\n",
        "* petal_length\tLargo del pétalo\n",
        "* petal_width\tAncho del pétalo\n",
        "\n",
        "[Ver imagen](https://blogger.googleusercontent.com/img/b/R29vZ2xl/AVvXsEj7e_IQ2IK_SRV1ve4spY-6jp2a7UBF7SKvEHM7IMxo1QqwG89su7mLRbC-r-FsDFQ4SDTW7A9B0P0IpqGBU2JQw4YRiVKLunvR2qnOGyZX179z0XDvnSxa6OVs85QufIq4ajAzwg/s640/Flor+partes.jpg)\n",
        "\n",
        "\n"
      ],
      "metadata": {
        "id": "mQufO8lBMijI"
      }
    },
    {
      "cell_type": "code",
      "source": [
        "# Cargar los datos desde la URL\n",
        "url = \"https://gist.githubusercontent.com/curran/a08a1080b88344b0c8a7/raw/0e7a9b0a5d22642a06d3d5b9bcbad9890c8ee534/iris.csv\"\n",
        "iris = pd.read_csv(url)\n",
        "\n",
        "# Ver las primeras filas\n",
        "iris.head()\n"
      ],
      "metadata": {
        "id": "vknIp19aKsWp",
        "outputId": "0074dc03-cfb2-46d5-b83f-608e60b34a46",
        "colab": {
          "base_uri": "https://localhost:8080/",
          "height": 206
        }
      },
      "execution_count": 33,
      "outputs": [
        {
          "output_type": "execute_result",
          "data": {
            "text/plain": [
              "   sepal_length  sepal_width  petal_length  petal_width species\n",
              "0           5.1          3.5           1.4          0.2  setosa\n",
              "1           4.9          3.0           1.4          0.2  setosa\n",
              "2           4.7          3.2           1.3          0.2  setosa\n",
              "3           4.6          3.1           1.5          0.2  setosa\n",
              "4           5.0          3.6           1.4          0.2  setosa"
            ],
            "text/html": [
              "\n",
              "  <div id=\"df-26d4e42d-af33-4f1e-b044-8d9a6bef735e\" class=\"colab-df-container\">\n",
              "    <div>\n",
              "<style scoped>\n",
              "    .dataframe tbody tr th:only-of-type {\n",
              "        vertical-align: middle;\n",
              "    }\n",
              "\n",
              "    .dataframe tbody tr th {\n",
              "        vertical-align: top;\n",
              "    }\n",
              "\n",
              "    .dataframe thead th {\n",
              "        text-align: right;\n",
              "    }\n",
              "</style>\n",
              "<table border=\"1\" class=\"dataframe\">\n",
              "  <thead>\n",
              "    <tr style=\"text-align: right;\">\n",
              "      <th></th>\n",
              "      <th>sepal_length</th>\n",
              "      <th>sepal_width</th>\n",
              "      <th>petal_length</th>\n",
              "      <th>petal_width</th>\n",
              "      <th>species</th>\n",
              "    </tr>\n",
              "  </thead>\n",
              "  <tbody>\n",
              "    <tr>\n",
              "      <th>0</th>\n",
              "      <td>5.1</td>\n",
              "      <td>3.5</td>\n",
              "      <td>1.4</td>\n",
              "      <td>0.2</td>\n",
              "      <td>setosa</td>\n",
              "    </tr>\n",
              "    <tr>\n",
              "      <th>1</th>\n",
              "      <td>4.9</td>\n",
              "      <td>3.0</td>\n",
              "      <td>1.4</td>\n",
              "      <td>0.2</td>\n",
              "      <td>setosa</td>\n",
              "    </tr>\n",
              "    <tr>\n",
              "      <th>2</th>\n",
              "      <td>4.7</td>\n",
              "      <td>3.2</td>\n",
              "      <td>1.3</td>\n",
              "      <td>0.2</td>\n",
              "      <td>setosa</td>\n",
              "    </tr>\n",
              "    <tr>\n",
              "      <th>3</th>\n",
              "      <td>4.6</td>\n",
              "      <td>3.1</td>\n",
              "      <td>1.5</td>\n",
              "      <td>0.2</td>\n",
              "      <td>setosa</td>\n",
              "    </tr>\n",
              "    <tr>\n",
              "      <th>4</th>\n",
              "      <td>5.0</td>\n",
              "      <td>3.6</td>\n",
              "      <td>1.4</td>\n",
              "      <td>0.2</td>\n",
              "      <td>setosa</td>\n",
              "    </tr>\n",
              "  </tbody>\n",
              "</table>\n",
              "</div>\n",
              "    <div class=\"colab-df-buttons\">\n",
              "\n",
              "  <div class=\"colab-df-container\">\n",
              "    <button class=\"colab-df-convert\" onclick=\"convertToInteractive('df-26d4e42d-af33-4f1e-b044-8d9a6bef735e')\"\n",
              "            title=\"Convert this dataframe to an interactive table.\"\n",
              "            style=\"display:none;\">\n",
              "\n",
              "  <svg xmlns=\"http://www.w3.org/2000/svg\" height=\"24px\" viewBox=\"0 -960 960 960\">\n",
              "    <path d=\"M120-120v-720h720v720H120Zm60-500h600v-160H180v160Zm220 220h160v-160H400v160Zm0 220h160v-160H400v160ZM180-400h160v-160H180v160Zm440 0h160v-160H620v160ZM180-180h160v-160H180v160Zm440 0h160v-160H620v160Z\"/>\n",
              "  </svg>\n",
              "    </button>\n",
              "\n",
              "  <style>\n",
              "    .colab-df-container {\n",
              "      display:flex;\n",
              "      gap: 12px;\n",
              "    }\n",
              "\n",
              "    .colab-df-convert {\n",
              "      background-color: #E8F0FE;\n",
              "      border: none;\n",
              "      border-radius: 50%;\n",
              "      cursor: pointer;\n",
              "      display: none;\n",
              "      fill: #1967D2;\n",
              "      height: 32px;\n",
              "      padding: 0 0 0 0;\n",
              "      width: 32px;\n",
              "    }\n",
              "\n",
              "    .colab-df-convert:hover {\n",
              "      background-color: #E2EBFA;\n",
              "      box-shadow: 0px 1px 2px rgba(60, 64, 67, 0.3), 0px 1px 3px 1px rgba(60, 64, 67, 0.15);\n",
              "      fill: #174EA6;\n",
              "    }\n",
              "\n",
              "    .colab-df-buttons div {\n",
              "      margin-bottom: 4px;\n",
              "    }\n",
              "\n",
              "    [theme=dark] .colab-df-convert {\n",
              "      background-color: #3B4455;\n",
              "      fill: #D2E3FC;\n",
              "    }\n",
              "\n",
              "    [theme=dark] .colab-df-convert:hover {\n",
              "      background-color: #434B5C;\n",
              "      box-shadow: 0px 1px 3px 1px rgba(0, 0, 0, 0.15);\n",
              "      filter: drop-shadow(0px 1px 2px rgba(0, 0, 0, 0.3));\n",
              "      fill: #FFFFFF;\n",
              "    }\n",
              "  </style>\n",
              "\n",
              "    <script>\n",
              "      const buttonEl =\n",
              "        document.querySelector('#df-26d4e42d-af33-4f1e-b044-8d9a6bef735e button.colab-df-convert');\n",
              "      buttonEl.style.display =\n",
              "        google.colab.kernel.accessAllowed ? 'block' : 'none';\n",
              "\n",
              "      async function convertToInteractive(key) {\n",
              "        const element = document.querySelector('#df-26d4e42d-af33-4f1e-b044-8d9a6bef735e');\n",
              "        const dataTable =\n",
              "          await google.colab.kernel.invokeFunction('convertToInteractive',\n",
              "                                                    [key], {});\n",
              "        if (!dataTable) return;\n",
              "\n",
              "        const docLinkHtml = 'Like what you see? Visit the ' +\n",
              "          '<a target=\"_blank\" href=https://colab.research.google.com/notebooks/data_table.ipynb>data table notebook</a>'\n",
              "          + ' to learn more about interactive tables.';\n",
              "        element.innerHTML = '';\n",
              "        dataTable['output_type'] = 'display_data';\n",
              "        await google.colab.output.renderOutput(dataTable, element);\n",
              "        const docLink = document.createElement('div');\n",
              "        docLink.innerHTML = docLinkHtml;\n",
              "        element.appendChild(docLink);\n",
              "      }\n",
              "    </script>\n",
              "  </div>\n",
              "\n",
              "\n",
              "    <div id=\"df-d4acd5a1-e936-46f5-9953-ba646b1ba137\">\n",
              "      <button class=\"colab-df-quickchart\" onclick=\"quickchart('df-d4acd5a1-e936-46f5-9953-ba646b1ba137')\"\n",
              "                title=\"Suggest charts\"\n",
              "                style=\"display:none;\">\n",
              "\n",
              "<svg xmlns=\"http://www.w3.org/2000/svg\" height=\"24px\"viewBox=\"0 0 24 24\"\n",
              "     width=\"24px\">\n",
              "    <g>\n",
              "        <path d=\"M19 3H5c-1.1 0-2 .9-2 2v14c0 1.1.9 2 2 2h14c1.1 0 2-.9 2-2V5c0-1.1-.9-2-2-2zM9 17H7v-7h2v7zm4 0h-2V7h2v10zm4 0h-2v-4h2v4z\"/>\n",
              "    </g>\n",
              "</svg>\n",
              "      </button>\n",
              "\n",
              "<style>\n",
              "  .colab-df-quickchart {\n",
              "      --bg-color: #E8F0FE;\n",
              "      --fill-color: #1967D2;\n",
              "      --hover-bg-color: #E2EBFA;\n",
              "      --hover-fill-color: #174EA6;\n",
              "      --disabled-fill-color: #AAA;\n",
              "      --disabled-bg-color: #DDD;\n",
              "  }\n",
              "\n",
              "  [theme=dark] .colab-df-quickchart {\n",
              "      --bg-color: #3B4455;\n",
              "      --fill-color: #D2E3FC;\n",
              "      --hover-bg-color: #434B5C;\n",
              "      --hover-fill-color: #FFFFFF;\n",
              "      --disabled-bg-color: #3B4455;\n",
              "      --disabled-fill-color: #666;\n",
              "  }\n",
              "\n",
              "  .colab-df-quickchart {\n",
              "    background-color: var(--bg-color);\n",
              "    border: none;\n",
              "    border-radius: 50%;\n",
              "    cursor: pointer;\n",
              "    display: none;\n",
              "    fill: var(--fill-color);\n",
              "    height: 32px;\n",
              "    padding: 0;\n",
              "    width: 32px;\n",
              "  }\n",
              "\n",
              "  .colab-df-quickchart:hover {\n",
              "    background-color: var(--hover-bg-color);\n",
              "    box-shadow: 0 1px 2px rgba(60, 64, 67, 0.3), 0 1px 3px 1px rgba(60, 64, 67, 0.15);\n",
              "    fill: var(--button-hover-fill-color);\n",
              "  }\n",
              "\n",
              "  .colab-df-quickchart-complete:disabled,\n",
              "  .colab-df-quickchart-complete:disabled:hover {\n",
              "    background-color: var(--disabled-bg-color);\n",
              "    fill: var(--disabled-fill-color);\n",
              "    box-shadow: none;\n",
              "  }\n",
              "\n",
              "  .colab-df-spinner {\n",
              "    border: 2px solid var(--fill-color);\n",
              "    border-color: transparent;\n",
              "    border-bottom-color: var(--fill-color);\n",
              "    animation:\n",
              "      spin 1s steps(1) infinite;\n",
              "  }\n",
              "\n",
              "  @keyframes spin {\n",
              "    0% {\n",
              "      border-color: transparent;\n",
              "      border-bottom-color: var(--fill-color);\n",
              "      border-left-color: var(--fill-color);\n",
              "    }\n",
              "    20% {\n",
              "      border-color: transparent;\n",
              "      border-left-color: var(--fill-color);\n",
              "      border-top-color: var(--fill-color);\n",
              "    }\n",
              "    30% {\n",
              "      border-color: transparent;\n",
              "      border-left-color: var(--fill-color);\n",
              "      border-top-color: var(--fill-color);\n",
              "      border-right-color: var(--fill-color);\n",
              "    }\n",
              "    40% {\n",
              "      border-color: transparent;\n",
              "      border-right-color: var(--fill-color);\n",
              "      border-top-color: var(--fill-color);\n",
              "    }\n",
              "    60% {\n",
              "      border-color: transparent;\n",
              "      border-right-color: var(--fill-color);\n",
              "    }\n",
              "    80% {\n",
              "      border-color: transparent;\n",
              "      border-right-color: var(--fill-color);\n",
              "      border-bottom-color: var(--fill-color);\n",
              "    }\n",
              "    90% {\n",
              "      border-color: transparent;\n",
              "      border-bottom-color: var(--fill-color);\n",
              "    }\n",
              "  }\n",
              "</style>\n",
              "\n",
              "      <script>\n",
              "        async function quickchart(key) {\n",
              "          const quickchartButtonEl =\n",
              "            document.querySelector('#' + key + ' button');\n",
              "          quickchartButtonEl.disabled = true;  // To prevent multiple clicks.\n",
              "          quickchartButtonEl.classList.add('colab-df-spinner');\n",
              "          try {\n",
              "            const charts = await google.colab.kernel.invokeFunction(\n",
              "                'suggestCharts', [key], {});\n",
              "          } catch (error) {\n",
              "            console.error('Error during call to suggestCharts:', error);\n",
              "          }\n",
              "          quickchartButtonEl.classList.remove('colab-df-spinner');\n",
              "          quickchartButtonEl.classList.add('colab-df-quickchart-complete');\n",
              "        }\n",
              "        (() => {\n",
              "          let quickchartButtonEl =\n",
              "            document.querySelector('#df-d4acd5a1-e936-46f5-9953-ba646b1ba137 button');\n",
              "          quickchartButtonEl.style.display =\n",
              "            google.colab.kernel.accessAllowed ? 'block' : 'none';\n",
              "        })();\n",
              "      </script>\n",
              "    </div>\n",
              "\n",
              "    </div>\n",
              "  </div>\n"
            ],
            "application/vnd.google.colaboratory.intrinsic+json": {
              "type": "dataframe",
              "variable_name": "iris",
              "summary": "{\n  \"name\": \"iris\",\n  \"rows\": 150,\n  \"fields\": [\n    {\n      \"column\": \"sepal_length\",\n      \"properties\": {\n        \"dtype\": \"number\",\n        \"std\": 0.8280661279778629,\n        \"min\": 4.3,\n        \"max\": 7.9,\n        \"num_unique_values\": 35,\n        \"samples\": [\n          6.2,\n          4.5,\n          5.6\n        ],\n        \"semantic_type\": \"\",\n        \"description\": \"\"\n      }\n    },\n    {\n      \"column\": \"sepal_width\",\n      \"properties\": {\n        \"dtype\": \"number\",\n        \"std\": 0.4335943113621737,\n        \"min\": 2.0,\n        \"max\": 4.4,\n        \"num_unique_values\": 23,\n        \"samples\": [\n          2.3,\n          4.0,\n          3.5\n        ],\n        \"semantic_type\": \"\",\n        \"description\": \"\"\n      }\n    },\n    {\n      \"column\": \"petal_length\",\n      \"properties\": {\n        \"dtype\": \"number\",\n        \"std\": 1.7644204199522617,\n        \"min\": 1.0,\n        \"max\": 6.9,\n        \"num_unique_values\": 43,\n        \"samples\": [\n          6.7,\n          3.8,\n          3.7\n        ],\n        \"semantic_type\": \"\",\n        \"description\": \"\"\n      }\n    },\n    {\n      \"column\": \"petal_width\",\n      \"properties\": {\n        \"dtype\": \"number\",\n        \"std\": 0.7631607417008414,\n        \"min\": 0.1,\n        \"max\": 2.5,\n        \"num_unique_values\": 22,\n        \"samples\": [\n          0.2,\n          1.2,\n          1.3\n        ],\n        \"semantic_type\": \"\",\n        \"description\": \"\"\n      }\n    },\n    {\n      \"column\": \"species\",\n      \"properties\": {\n        \"dtype\": \"category\",\n        \"num_unique_values\": 3,\n        \"samples\": [\n          \"setosa\",\n          \"versicolor\",\n          \"virginica\"\n        ],\n        \"semantic_type\": \"\",\n        \"description\": \"\"\n      }\n    }\n  ]\n}"
            }
          },
          "metadata": {},
          "execution_count": 33
        }
      ]
    },
    {
      "cell_type": "code",
      "source": [
        "iris.info()"
      ],
      "metadata": {
        "id": "7h1zu74bG6uO",
        "outputId": "36277e44-f267-4fa8-f2dd-10bb559af799",
        "colab": {
          "base_uri": "https://localhost:8080/"
        }
      },
      "execution_count": 54,
      "outputs": [
        {
          "output_type": "stream",
          "name": "stdout",
          "text": [
            "<class 'pandas.core.frame.DataFrame'>\n",
            "RangeIndex: 150 entries, 0 to 149\n",
            "Data columns (total 5 columns):\n",
            " #   Column        Non-Null Count  Dtype  \n",
            "---  ------        --------------  -----  \n",
            " 0   sepal_length  150 non-null    float64\n",
            " 1   sepal_width   150 non-null    float64\n",
            " 2   petal_length  150 non-null    float64\n",
            " 3   petal_width   150 non-null    float64\n",
            " 4   species       150 non-null    object \n",
            "dtypes: float64(4), object(1)\n",
            "memory usage: 6.0+ KB\n"
          ]
        }
      ]
    },
    {
      "cell_type": "code",
      "source": [
        "# Veamos más detalles con info\n",
        "iris.info()"
      ],
      "metadata": {
        "id": "4pfiFNK5KxzA"
      },
      "execution_count": null,
      "outputs": []
    },
    {
      "cell_type": "code",
      "source": [
        "# Y algo de estadísticas:\n",
        "iris.describe()"
      ],
      "metadata": {
        "id": "XgsJOE-ZLzho"
      },
      "execution_count": null,
      "outputs": []
    },
    {
      "cell_type": "code",
      "source": [
        "plt.figure(figsize=(10,6))\n",
        "sns.boxplot(data=iris, x=\"species\", y=\"sepal_length\", palette=\"crest\")\n",
        "plt.title(\"Distribución del largo del sépalo por especie\")\n",
        "plt.xlabel(\"Especie\")\n",
        "plt.ylabel(\"Largo del sépalo (cm)\")\n",
        "plt.show()\n"
      ],
      "metadata": {
        "id": "4WWvHs0jK265",
        "outputId": "ef62c135-41f3-411e-eeb1-b2e97a0364d9",
        "colab": {
          "base_uri": "https://localhost:8080/",
          "height": 680
        }
      },
      "execution_count": 34,
      "outputs": [
        {
          "output_type": "stream",
          "name": "stderr",
          "text": [
            "/tmp/ipython-input-4239838558.py:2: FutureWarning: \n",
            "\n",
            "Passing `palette` without assigning `hue` is deprecated and will be removed in v0.14.0. Assign the `x` variable to `hue` and set `legend=False` for the same effect.\n",
            "\n",
            "  sns.boxplot(data=iris, x=\"species\", y=\"sepal_length\", palette=\"crest\")\n"
          ]
        },
        {
          "output_type": "display_data",
          "data": {
            "text/plain": [
              "<Figure size 1000x600 with 1 Axes>"
            ],
            "image/png": "[encoded data removed]"
          },
          "metadata": {}
        }
      ]
    },
    {
      "cell_type": "code",
      "source": [
        "plt.figure(figsize=(8,5))\n",
        "sns.histplot(iris[\"petal_length\"], bins=20, kde=True, color=\"skyblue\")\n",
        "plt.title(\"Distribución del largo del pétalo (con curva de densidad)\")\n",
        "plt.xlabel(\"Largo del pétalo (cm)\")\n",
        "plt.ylabel(\"Frecuencia\")\n",
        "plt.show()\n"
      ],
      "metadata": {
        "id": "HwtXY4suLLLx",
        "outputId": "d47ffd23-cb9f-48f4-daf6-b54e5ff80d39",
        "colab": {
          "base_uri": "https://localhost:8080/",
          "height": 497
        }
      },
      "execution_count": 35,
      "outputs": [
        {
          "output_type": "display_data",
          "data": {
            "text/plain": [
              "<Figure size 800x500 with 1 Axes>"
            ],
            "image/png": "[encoded data removed]"
          },
          "metadata": {}
        }
      ]
    },
    {
      "cell_type": "markdown",
      "source": [
        "## Ejercicio\n",
        "Elegir al menos una variable categórica (sepal with, por ejemplo) y calcular:\n",
        "* media\n",
        "* mediana\n",
        "* RIC\n",
        "* outliers inferior/superio\n",
        "* rango\n",
        "* varianza\n",
        "* desvío standard"
      ],
      "metadata": {
        "id": "GNLXh2vZQD8g"
      }
    },
    {
      "cell_type": "code",
      "source": [
        "#Descripción de la variable Sepal width (ejem)\n",
        "ejem=iris.sepal_width\n",
        "ejem.describe()"
      ],
      "metadata": {
        "id": "HAoglw8uFNXn",
        "outputId": "71ce8463-b787-4d20-f842-3aee213f7b44",
        "colab": {
          "base_uri": "https://localhost:8080/",
          "height": 335
        }
      },
      "execution_count": 41,
      "outputs": [
        {
          "output_type": "execute_result",
          "data": {
            "text/plain": [
              "count    150.000000\n",
              "mean       3.054000\n",
              "std        0.433594\n",
              "min        2.000000\n",
              "25%        2.800000\n",
              "50%        3.000000\n",
              "75%        3.300000\n",
              "max        4.400000\n",
              "Name: sepal_width, dtype: float64"
            ],
            "text/html": [
              "<div>\n",
              "<style scoped>\n",
              "    .dataframe tbody tr th:only-of-type {\n",
              "        vertical-align: middle;\n",
              "    }\n",
              "\n",
              "    .dataframe tbody tr th {\n",
              "        vertical-align: top;\n",
              "    }\n",
              "\n",
              "    .dataframe thead th {\n",
              "        text-align: right;\n",
              "    }\n",
              "</style>\n",
              "<table border=\"1\" class=\"dataframe\">\n",
              "  <thead>\n",
              "    <tr style=\"text-align: right;\">\n",
              "      <th></th>\n",
              "      <th>sepal_width</th>\n",
              "    </tr>\n",
              "  </thead>\n",
              "  <tbody>\n",
              "    <tr>\n",
              "      <th>count</th>\n",
              "      <td>150.000000</td>\n",
              "    </tr>\n",
              "    <tr>\n",
              "      <th>mean</th>\n",
              "      <td>3.054000</td>\n",
              "    </tr>\n",
              "    <tr>\n",
              "      <th>std</th>\n",
              "      <td>0.433594</td>\n",
              "    </tr>\n",
              "    <tr>\n",
              "      <th>min</th>\n",
              "      <td>2.000000</td>\n",
              "    </tr>\n",
              "    <tr>\n",
              "      <th>25%</th>\n",
              "      <td>2.800000</td>\n",
              "    </tr>\n",
              "    <tr>\n",
              "      <th>50%</th>\n",
              "      <td>3.000000</td>\n",
              "    </tr>\n",
              "    <tr>\n",
              "      <th>75%</th>\n",
              "      <td>3.300000</td>\n",
              "    </tr>\n",
              "    <tr>\n",
              "      <th>max</th>\n",
              "      <td>4.400000</td>\n",
              "    </tr>\n",
              "  </tbody>\n",
              "</table>\n",
              "</div><br><label><b>dtype:</b> float64</label>"
            ]
          },
          "metadata": {},
          "execution_count": 41
        }
      ]
    },
    {
      "cell_type": "code",
      "source": [
        "#Calculamos el Rango intercuartil\n",
        "RIC=ejem.quantile(0.75)-ejem.quantile(0.25)\n",
        "RIC"
      ],
      "metadata": {
        "id": "X3PtJ-5BFrET",
        "outputId": "7f30575e-517b-4699-b180-f2df219ee615",
        "colab": {
          "base_uri": "https://localhost:8080/"
        }
      },
      "execution_count": 45,
      "outputs": [
        {
          "output_type": "execute_result",
          "data": {
            "text/plain": [
              "np.float64(0.5)"
            ]
          },
          "metadata": {},
          "execution_count": 45
        }
      ]
    },
    {
      "cell_type": "code",
      "source": [
        "#Outliers\n",
        "outlier_superior = Q3 + 1.5*RIC\n",
        "outlier_inferior = Q1 - 1.5*RIC\n",
        "print(f\"Outlier superior: {outlier_superior}\")\n",
        "print(f\"Outlier inferior: {outlier_inferior}\")"
      ],
      "metadata": {
        "id": "zry-ZPi-GS4o",
        "outputId": "c06e0ca6-5e64-4b9e-d4d3-2161a8db813e",
        "colab": {
          "base_uri": "https://localhost:8080/"
        }
      },
      "execution_count": 49,
      "outputs": [
        {
          "output_type": "stream",
          "name": "stdout",
          "text": [
            "88.0\n",
            "Outlier superior: 88.75\n",
            "Outlier inferior: 67.25\n"
          ]
        }
      ]
    },
    {
      "cell_type": "code",
      "source": [
        "#Rango\n",
        "rango= ejem.max() - ejem.min()\n",
        "print(rango)"
      ],
      "metadata": {
        "id": "uv9Bz5JGGi_7",
        "outputId": "fd6071dc-24e6-47d0-ef02-2480f30d7a63",
        "colab": {
          "base_uri": "https://localhost:8080/"
        }
      },
      "execution_count": 53,
      "outputs": [
        {
          "output_type": "stream",
          "name": "stdout",
          "text": [
            "2.4000000000000004\n"
          ]
        }
      ]
    },
    {
      "cell_type": "code",
      "source": [
        "#Calculamos la Varianza\n",
        "ejem.var()"
      ],
      "metadata": {
        "id": "28Do7YKzFlgN",
        "outputId": "4b160adf-c853-4b63-ee79-7c7b883a31ec",
        "colab": {
          "base_uri": "https://localhost:8080/"
        }
      },
      "execution_count": 42,
      "outputs": [
        {
          "output_type": "execute_result",
          "data": {
            "text/plain": [
              "0.18800402684563763"
            ]
          },
          "metadata": {},
          "execution_count": 42
        }
      ]
    }
  ]
}